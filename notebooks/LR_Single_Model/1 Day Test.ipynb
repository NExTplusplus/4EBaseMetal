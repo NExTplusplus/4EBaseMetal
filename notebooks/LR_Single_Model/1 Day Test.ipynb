{
 "cells": [
  {
   "cell_type": "markdown",
   "metadata": {},
   "source": [
    "For online testing, we require that the data files be similarly structured as the provided data.\n",
    "\n",
    "This means that the filepaths and the column names should adhere strictly to previously used data.\n",
    "\n",
    "Apart from the data files, we also require a config file to read which paths and which columns to load."
   ]
  },
  {
   "cell_type": "markdown",
   "metadata": {},
   "source": [
    "Example: Predict Aluminium Spot Price with Shanghai Future Exchange's Copper's Open Interest.\n",
    "\n",
    "The config file, which lists the filepaths and the columns to load should look similar to:\n",
    "\n",
    "[\n",
    "\n",
    "    {\n",
    "    \n",
    "        \".../LME/.../LMAHDY.csv\":[\"LMAHDY\"],\n",
    "        \n",
    "        \".../SHFE/.../CU.csv\":[\"Open Interest\"]\n",
    "        \n",
    "    }\n",
    "    \n",
    "]\n",
    "\n",
    "Notes:\n",
    "Assets in different exchanges should be under folders of their respective exchange names.\n",
    "\n",
    "Spot Prices in LME should adhere to the LM__DY for both file names and column names."
   ]
  },
  {
   "cell_type": "code",
   "execution_count": 113,
   "metadata": {},
   "outputs": [
    {
     "name": "stdout",
     "output_type": "stream",
     "text": [
      "[1]\n",
      " \"Already loaded SinglePackageAl version * 19.04.6 * \"\n",
      "\n",
      "\n",
      "[1]\n",
      " \"Detaching it\"\n",
      "\n",
      "\n",
      "[1]\n",
      " \"Also unloading with devtools:\"\n",
      "\n",
      "\n",
      " \n",
      "\n",
      "[1]\n",
      " \"SinglePackageAl loaded. Attaching version 19.04.6\"\n",
      "\n",
      "\n",
      "[1]\n",
      " \"Loaded AlphienData\"\n",
      "\n",
      "\n",
      "[1]\n",
      " \"Loaded AlphienTechnicalAnalysis\"\n",
      "\n",
      "\n",
      "[1]\n",
      " \"Loaded AlphienFundamental\"\n",
      "\n",
      "\n",
      "[1]\n",
      " \"Loaded AlphienBaseMetals\"\n",
      "\n",
      "\n",
      "[1]\n",
      " \"Loaded AlphienOption\"\n",
      "\n",
      "\n",
      "send2Log: Your working directory is: /home/chanmingwei\n",
      " \n",
      "\n",
      "\n",
      "/home/chanmingwei/NEXT/4EBaseMetal/code/utils/NEXT/4EBaseMetal/code/utils\n"
     ]
    }
   ],
   "source": [
    "import joblib\n",
    "import json\n",
    "from copy import copy\n",
    "import importlib\n",
    "import os\n",
    "import sys\n",
    "import numpy as np\n",
    "import rpy2.robjects as robjects\n",
    "import pandas as pd\n",
    "robjects.r('.sourceAlfunction()')\n",
    "print(sys.path[0])\n",
    "sys.path.insert(0, os.path.abspath(os.path.join(sys.path[0], 'NEXT/4EBaseMetal/code/utils')))\n",
    "read_data = importlib.import_module(\"read_data\")\n",
    "construct_data = importlib.import_module(\"construct_data\")\n",
    "transform_data = importlib.import_module(\"transform_data\")\n",
    "normalize_feature = importlib.import_module(\"normalize_feature\")"
   ]
  },
  {
   "cell_type": "code",
   "execution_count": 114,
   "metadata": {},
   "outputs": [],
   "source": [
    "from datetime import datetime\n",
    "def h1_function(date_range,ground_truth):\n",
    "    h = 1\n",
    "    time_series = None\n",
    "    rgetSecurity = robjects.r('getSecurity')\n",
    "    rindex = robjects.r('index')\n",
    "    rgetGenOHLCV = robjects.r('getGenOHLCV')\n",
    "    extra_data = None\n",
    "    extra_index = None\n",
    "    if ground_truth == \"LMAHDY Comdty\":\n",
    "        lag = 40\n",
    "        norm_ex = \"v1\"\n",
    "        norm_volume = \"v1\"\n",
    "        norm_3m_spread = \"v1\"\n",
    "        extra_data = robjects.r('getGenOHLCV(\"PBLcl\",zoom = \\\"'+date_range+'\\\")[,6]')\n",
    "#         print(extra_data)\n",
    "        extra_index = rindex(extra_data)\n",
    "    elif ground_truth == \"LMPBDY Comdty\":\n",
    "        lag = 40\n",
    "        norm_ex = \"v1\"\n",
    "        norm_volume = \"v1\"\n",
    "        norm_3m_spread = \"v1\"\n",
    "        extra_data = robjects.r('getGenOHLCV(\"PBLcl\",zoom = \\\"'+date_range+'\\\")[,6]')\n",
    "        extra_index = rindex(extra_data)\n",
    "    elif ground_truth == \"LMNIDY Comdty\":\n",
    "        lag = 5\n",
    "        norm_ex = \"v1\"\n",
    "        norm_volume = \"v1\"\n",
    "        norm_3m_spread = \"v1\"\n",
    "        extra_data = rgetSecurity(securityName= \"LMAHDY Comdty\", zoom = date_range)\n",
    "        extra_index = rindex(extra_data)\n",
    "#add the test function of the LMZSDY and LMSNDY\n",
    "    elif ground_truth == \"LMZSDY Comdty\":\n",
    "        lag = 10\n",
    "        norm_ex = \"v1\"\n",
    "        norm_volume = \"v1\"\n",
    "        norm_3m_spread = \"v1\"\n",
    "        extra_data = rgetSecurity(securityName= \"UKX Index\", zoom = date_range)\n",
    "        extra_index = rindex(extra_data)\n",
    "    elif ground_truth == \"LMSNDY Comdty\":\n",
    "        lag = 40\n",
    "        norm_ex = \"v1\"\n",
    "        norm_volume = \"v1\"\n",
    "        norm_3m_spread = \"v1\"\n",
    "        extra_data = robjects.r('getGenOHLCV(\"SI\", zoom =\\\"'+date_range+'\\\")[,4]')\n",
    "        extra_index = rindex(extra_data)\n",
    "    elif ground_truth == \"LMCADY Comdty\":\n",
    "        lag = 5\n",
    "        norm_ex = \"v1\"\n",
    "        norm_volume = \"v1\"\n",
    "        norm_3m_spread = \"v1\"\n",
    "        extra_data = robjects.r('getGenOHLCV(\"PBLcl\",zoom = \\\"'+date_range+'\\\")[,1]')\n",
    "        extra_index = rindex(extra_data)\n",
    "    else:\n",
    "        print(\"ground truth val out of bounds!\")\n",
    "        return None\n",
    "    gt_data = rgetSecurity(securityName=ground_truth,zoom=date_range)\n",
    "    gt_index = rindex(gt_data)\n",
    "    gt_data_list = []\n",
    "    gt_index_list = []\n",
    "    extra_data_list = []\n",
    "    extra_index_list = []\n",
    "    for i in range(len(gt_index)):\n",
    "        gt_index_list.append(gt_index[i])\n",
    "    for i in range(len(gt_data)):\n",
    "        gt_data_list.append(gt_data[i])\n",
    "    for i in range(len(extra_index)):\n",
    "        extra_index_list.append(extra_index[i])\n",
    "    for i in range(len(extra_data)):\n",
    "        extra_data_list.append(extra_data[i])\n",
    "    start_date= min(gt_index_list[0],extra_index_list[0])\n",
    "    end_date =max(gt_index_list[-1],extra_index_list[-1])\n",
    "    if ground_truth == \"LMAHDY Comdty\":\n",
    "        gt_dict={'time':gt_index_list,'LME_Al_Spot':gt_data_list}\n",
    "        extra_dict = {'time':extra_index_list, 'SHFE_Le_OI':extra_data_list}\n",
    "    elif ground_truth == \"LMPBDY Comdty\":\n",
    "        gt_dict={'time':gt_index_list,'LME_Le_Spot':gt_data_list}\n",
    "        extra_dict = {'time':extra_index_list, 'SHFE_Le_OI':extra_data_list}\n",
    "    elif ground_truth == \"LMNIDY Comdty\":\n",
    "        gt_dict={'time':gt_index_list,'LME_Ni_Spot':gt_data_list}\n",
    "        extra_dict = {'time':extra_index_list, 'LME_Al_Spot':extra_data_list}\n",
    "    elif ground_truth == \"LMZSDY Comdty\":\n",
    "        gt_dict={'time':gt_index_list,'LME_Zi_Spot':gt_data_list}\n",
    "        extra_dict = {'time':extra_index_list+86400*np.ones(len(extra_index_list)), 'UKX':extra_data_list}\n",
    "    elif ground_truth == \"LMSNDY Comdty\":\n",
    "        gt_dict={'time':gt_index_list,'LME_Ti_Spot':gt_data_list}\n",
    "        extra_dict = {'time':extra_index_list+86400*np.ones(len(extra_index_list)), 'COMEX_SI_lag1_Close':extra_data_list}\n",
    "    elif ground_truth == \"LMCADY Comdty\":\n",
    "        gt_dict={'time':gt_index_list,'LME_Co_Spot':gt_data_list}\n",
    "        extra_dict = {'time':extra_index_list, 'SHFE_Le_Open':extra_data_list}\n",
    "    else:\n",
    "        print(\"ground truth val out of bounds!\")\n",
    "        return None\n",
    "    gt_dataframe = pd.DataFrame(gt_dict)\n",
    "    extra_dataframe = pd.DataFrame(extra_dict)\n",
    "#     print(isinstance(extra_dataframe, pd.DataFrame))\n",
    "    time_series = pd.DataFrame.merge(gt_dataframe,extra_dataframe,how ='outer', on = 'time')\n",
    "    time_series.set_index('time')\n",
    "#     print(time_series['time'])\n",
    "    time_series = time_series.drop('time',axis = 1)\n",
    "    \n",
    "\n",
    "#     print(time_series)\n",
    "    \n",
    "    #Processing data\n",
    "    time_series = read_data.process_missing_value_v3(time_series,np.min([lag,10]))\n",
    "    org_cols = time_series.columns.values.tolist()\n",
    "    print(\"Normalizing\")\n",
    "\n",
    "    #Normalize and generate technical indications\n",
    "    norm_params = construct_data.normalize(time_series,vol_norm = norm_volume, spot_spread_norm=norm_3m_spread,ex_spread_norm = norm_ex)\n",
    "    time_series = copy(norm_params[\"val\"])\n",
    "    del norm_params[\"val\"]\n",
    "    time_series = construct_data.technical_indication(time_series)\n",
    "    cols = time_series.columns.values.tolist()\n",
    "    for col in cols:\n",
    "        if \"_Volume\" in col or \"_OI\" in col or \"CNYUSD\" in col:\n",
    "            time_series = time_series.drop(col,axis = 1)\n",
    "            org_cols.remove(col)\n",
    "    curr = \"\"\n",
    "    if ground_truth == \"LMAHDY Comdty\":\n",
    "        curr = \"Al\"\n",
    "    elif ground_truth == \"LMPBDY Comdty\":\n",
    "        curr = \"Le\"\n",
    "    elif ground_truth == \"LMNIDY Comdty\":\n",
    "        curr = \"Ni\"\n",
    "    elif ground_truth == \"LMZSDY Comdty\":\n",
    "        curr = \"Zi\"\n",
    "    elif ground_truth == \"LMSNDY Comdty\":\n",
    "        curr = \"Ti\"\n",
    "    elif ground_truth == \"LMCADY Comdty\":\n",
    "        curr = \"Co\"\n",
    "    else:\n",
    "        print(\"ground truth val out of bounds!\")\n",
    "        return None\n",
    "\n",
    "    norm_data = copy(normalize_feature.log_1d_return(time_series,org_cols))\n",
    "    norm_data = read_data.process_missing_value_v3(norm_data,10)\n",
    "    to_be_predicted = norm_data[\"LME_\"+curr+\"_Spot\"]\n",
    "#     if S > 1:\n",
    "#         for i in range(S-1):\n",
    "#             to_be_predicted = to_be_predicted + norm_data[gt_column].shift(-i-1)\n",
    "    gt = (to_be_predicted > 0).shift(-1)\n",
    "\n",
    "    start_index = 0\n",
    "    if start_index < lag - 1:\n",
    "        start_index = lag - 1\n",
    "    end_index = len(norm_data)-1\n",
    "    assert end_index >= lag - 1\n",
    "#     time_series = pd.DataFrame.merge(gt_dataframe,extra_dataframe,how ='outer', on = 'time')\n",
    "#     times = [datetime.fromtimestamp(time).strftime(\"%A, %B %d, %Y %I:%M:%S\") for time in time_series['time'][norm_data.index[0]:norm_data.index[-1]]]\n",
    "#     print((*times), sep = \"\\n\")\n",
    "    X_te, y_te = construct_data.construct(norm_data, gt, start_index, end_index, lag, \"log_1d_return\")\n",
    "    X_te = transform_data.flatten(X_te)\n",
    "    y_te = y_te*2 - 1\n",
    "    print(len(y_te))\n",
    "    #load model\n",
    "    model = joblib.load(\"NEXT/LME_\"+curr+\"_Spot_h\"+str(h)+\"_n1.joblib\")\n",
    "\n",
    "    prediction = model.predict(X_te).reshape(X_te.shape[0],1)\n",
    "\n",
    "    with open(\"NEXT/Nickel h\"+str(h)+\".csv\",\"w\") as out:\n",
    "        out.write(\"Prediction,True Value\\n\")\n",
    "        for i in range(X_te.shape[0]):\n",
    "            # outputs a boolean value stating whether the prediction was an increase in spot price.\n",
    "            out.write(str(prediction[i] == 1).strip(\"[ \").strip(\"]\") + \",\"+ str(y_te[i] == 1).strip(\"[ \").strip(\"]\") + \"\\n\")\n",
    "\n",
    "    total_no = prediction.shape[0]\n",
    "    no_true = sum(np.equal(prediction,y_te))\n",
    "    no_TT = sum(np.multiply(prediction+1,y_te+1))/4\n",
    "    no_FF = sum(np.multiply(prediction - 1,y_te - 1))/4\n",
    "    no_TF = -sum(np.multiply(prediction + 1,y_te - 1))/4\n",
    "    no_FT = -sum(np.multiply(prediction - 1,y_te + 1))/4\n",
    "\n",
    "    #some basic statistics, to identify whether our model is more prone to which type of error.\n",
    "    print(\"Overall Accuracy:%d\",no_true/total_no )\n",
    "    print(\"TT:%d\", no_TT)\n",
    "    print(\"TF:%d\", no_TF)\n",
    "    print(\"FT:%d\", no_FT)\n",
    "    print(\"FF:%d\", no_FF)\n",
    "    return prediction\n",
    "\n"
   ]
  },
  {
   "cell_type": "markdown",
   "metadata": {},
   "source": []
  },
  {
   "cell_type": "code",
   "execution_count": 115,
   "metadata": {},
   "outputs": [
    {
     "name": "stdout",
     "output_type": "stream",
     "text": [
      "Normalizing\n",
      "248\n",
      "Overall Accuracy:%d [0.61290323]\n",
      "TT:%d [47.]\n",
      "TF:%d [29.]\n",
      "FT:%d [67.]\n",
      "FF:%d [105.]\n"
     ]
    },
    {
     "name": "stderr",
     "output_type": "stream",
     "text": [
      "/home/chanmingwei/.local/lib/python3.5/site-packages/sklearn/base.py:251: UserWarning: Trying to unpickle estimator LogisticRegression from version 0.19.2 when using version 0.20.0. This might lead to breaking code or invalid results. Use at your own risk.\n",
      "  UserWarning)\n"
     ]
    }
   ],
   "source": [
    "LMNIDY = h1_function(\"2015-01-06::2016-01-05\",\"LMNIDY Comdty\")"
   ]
  },
  {
   "cell_type": "code",
   "execution_count": 123,
   "metadata": {},
   "outputs": [
    {
     "name": "stdout",
     "output_type": "stream",
     "text": [
      "Normalizing\n",
      "249\n",
      "Overall Accuracy:%d [0.53012048]\n",
      "TT:%d [38.]\n",
      "TF:%d [16.]\n",
      "FT:%d [101.]\n",
      "FF:%d [94.]\n"
     ]
    },
    {
     "name": "stderr",
     "output_type": "stream",
     "text": [
      "/home/chanmingwei/.local/lib/python3.5/site-packages/sklearn/base.py:251: UserWarning: Trying to unpickle estimator LogisticRegression from version 0.19.2 when using version 0.20.0. This might lead to breaking code or invalid results. Use at your own risk.\n",
      "  UserWarning)\n"
     ]
    }
   ],
   "source": [
    "LMNIDY_test = h1_function(\"2016-01-06::2017-01-05\",\"LMNIDY Comdty\")"
   ]
  },
  {
   "cell_type": "code",
   "execution_count": 124,
   "metadata": {},
   "outputs": [
    {
     "name": "stdout",
     "output_type": "stream",
     "text": [
      "Normalizing\n",
      "603\n",
      "Overall Accuracy:%d [0.51409619]\n",
      "TT:%d [72.]\n",
      "TF:%d [60.]\n",
      "FT:%d [233.]\n",
      "FF:%d [238.]\n"
     ]
    },
    {
     "name": "stderr",
     "output_type": "stream",
     "text": [
      "/home/chanmingwei/.local/lib/python3.5/site-packages/sklearn/base.py:251: UserWarning: Trying to unpickle estimator LogisticRegression from version 0.19.2 when using version 0.20.0. This might lead to breaking code or invalid results. Use at your own risk.\n",
      "  UserWarning)\n"
     ]
    }
   ],
   "source": [
    "LMNIDY_holdout = h1_function(\"2017-01-06::\",\"LMNIDY Comdty\")"
   ]
  },
  {
   "cell_type": "code",
   "execution_count": 116,
   "metadata": {},
   "outputs": [
    {
     "name": "stdout",
     "output_type": "stream",
     "text": [
      "send2Log: Fetching generic for PBL1C\n",
      " \n",
      "\n",
      "\n",
      "Normalizing\n",
      "234\n",
      "Overall Accuracy:%d [0.59401709]\n",
      "TT:%d [59.]\n",
      "TF:%d [40.]\n",
      "FT:%d [55.]\n",
      "FF:%d [80.]\n"
     ]
    },
    {
     "name": "stderr",
     "output_type": "stream",
     "text": [
      "/home/chanmingwei/.local/lib/python3.5/site-packages/sklearn/base.py:251: UserWarning: Trying to unpickle estimator LogisticRegression from version 0.19.2 when using version 0.20.0. This might lead to breaking code or invalid results. Use at your own risk.\n",
      "  UserWarning)\n"
     ]
    }
   ],
   "source": [
    "LMCADY = h1_function(\"2015-01-06::2016-01-05\",\"LMCADY Comdty\")"
   ]
  },
  {
   "cell_type": "code",
   "execution_count": 129,
   "metadata": {},
   "outputs": [
    {
     "name": "stdout",
     "output_type": "stream",
     "text": [
      "send2Log: Fetching generic for PBL1C\n",
      " \n",
      "\n",
      "\n",
      "Normalizing\n",
      "234\n",
      "Overall Accuracy:%d [0.47435897]\n",
      "TT:%d [44.]\n",
      "TF:%d [44.]\n",
      "FT:%d [79.]\n",
      "FF:%d [67.]\n"
     ]
    },
    {
     "name": "stderr",
     "output_type": "stream",
     "text": [
      "/home/chanmingwei/.local/lib/python3.5/site-packages/sklearn/base.py:251: UserWarning: Trying to unpickle estimator LogisticRegression from version 0.19.2 when using version 0.20.0. This might lead to breaking code or invalid results. Use at your own risk.\n",
      "  UserWarning)\n"
     ]
    }
   ],
   "source": [
    "LMCADY_test = h1_function(\"2016-01-06::2017-01-05\",\"LMCADY Comdty\")"
   ]
  },
  {
   "cell_type": "code",
   "execution_count": 130,
   "metadata": {},
   "outputs": [
    {
     "name": "stdout",
     "output_type": "stream",
     "text": [
      "send2Log: Fetching generic for PBL1C\n",
      " \n",
      "\n",
      "\n",
      "Normalizing\n",
      "564\n",
      "Overall Accuracy:%d [0.5106383]\n",
      "TT:%d [104.]\n",
      "TF:%d [97.]\n",
      "FT:%d [179.]\n",
      "FF:%d [184.]\n"
     ]
    },
    {
     "name": "stderr",
     "output_type": "stream",
     "text": [
      "/home/chanmingwei/.local/lib/python3.5/site-packages/sklearn/base.py:251: UserWarning: Trying to unpickle estimator LogisticRegression from version 0.19.2 when using version 0.20.0. This might lead to breaking code or invalid results. Use at your own risk.\n",
      "  UserWarning)\n"
     ]
    }
   ],
   "source": [
    "LMCADY_holdout = h1_function(\"2017-01-06::\",\"LMCADY Comdty\")"
   ]
  },
  {
   "cell_type": "code",
   "execution_count": 117,
   "metadata": {
    "scrolled": false
   },
   "outputs": [
    {
     "name": "stdout",
     "output_type": "stream",
     "text": [
      "send2Log: Fetching generic for PBL1C\n",
      " \n",
      "\n",
      "\n",
      "Normalizing\n",
      "Normalizing OI:SHFE_Le_OI=>SHFE_Le_nOI\n",
      "198\n",
      "Overall Accuracy:%d [0.63636364]\n",
      "TT:%d [47.]\n",
      "TF:%d [36.]\n",
      "FT:%d [36.]\n",
      "FF:%d [79.]\n"
     ]
    },
    {
     "name": "stderr",
     "output_type": "stream",
     "text": [
      "/home/chanmingwei/.local/lib/python3.5/site-packages/sklearn/base.py:251: UserWarning: Trying to unpickle estimator LogisticRegression from version 0.19.2 when using version 0.20.0. This might lead to breaking code or invalid results. Use at your own risk.\n",
      "  UserWarning)\n"
     ]
    }
   ],
   "source": [
    "LMAHDY = h1_function(\"2015-01-06::2016-01-05\",\"LMAHDY Comdty\")"
   ]
  },
  {
   "cell_type": "code",
   "execution_count": 118,
   "metadata": {},
   "outputs": [
    {
     "name": "stdout",
     "output_type": "stream",
     "text": [
      "send2Log: Fetching generic for PBL1C\n",
      " \n",
      "\n",
      "\n",
      "Normalizing\n",
      "Normalizing OI:SHFE_Le_OI=>SHFE_Le_nOI\n",
      "198\n",
      "Overall Accuracy:%d [0.51010101]\n",
      "TT:%d [40.]\n",
      "TF:%d [35.]\n",
      "FT:%d [62.]\n",
      "FF:%d [61.]\n"
     ]
    },
    {
     "name": "stderr",
     "output_type": "stream",
     "text": [
      "/home/chanmingwei/.local/lib/python3.5/site-packages/sklearn/base.py:251: UserWarning: Trying to unpickle estimator LogisticRegression from version 0.19.2 when using version 0.20.0. This might lead to breaking code or invalid results. Use at your own risk.\n",
      "  UserWarning)\n"
     ]
    }
   ],
   "source": [
    "LMAHDY_test = h1_function(\"2016-01-06::2017-01-05\",\"LMAHDY Comdty\")"
   ]
  },
  {
   "cell_type": "code",
   "execution_count": 119,
   "metadata": {},
   "outputs": [
    {
     "name": "stdout",
     "output_type": "stream",
     "text": [
      "send2Log: Fetching generic for PBL1C\n",
      " \n",
      "\n",
      "\n",
      "Normalizing\n",
      "Normalizing OI:SHFE_Le_OI=>SHFE_Le_nOI\n",
      "528\n",
      "Overall Accuracy:%d [0.49431818]\n",
      "TT:%d [100.]\n",
      "TF:%d [117.]\n",
      "FT:%d [150.]\n",
      "FF:%d [161.]\n"
     ]
    },
    {
     "name": "stderr",
     "output_type": "stream",
     "text": [
      "/home/chanmingwei/.local/lib/python3.5/site-packages/sklearn/base.py:251: UserWarning: Trying to unpickle estimator LogisticRegression from version 0.19.2 when using version 0.20.0. This might lead to breaking code or invalid results. Use at your own risk.\n",
      "  UserWarning)\n"
     ]
    }
   ],
   "source": [
    "LMAHDY_holdout = h1_function(\"2017-01-06::\",\"LMAHDY Comdty\")"
   ]
  },
  {
   "cell_type": "code",
   "execution_count": 120,
   "metadata": {},
   "outputs": [
    {
     "name": "stdout",
     "output_type": "stream",
     "text": [
      "send2Log: Fetching generic for PBL1C\n",
      " \n",
      "\n",
      "\n",
      "Normalizing\n",
      "Normalizing OI:SHFE_Le_OI=>SHFE_Le_nOI\n",
      "198\n",
      "Overall Accuracy:%d [0.57070707]\n",
      "TT:%d [32.]\n",
      "TF:%d [24.]\n",
      "FT:%d [61.]\n",
      "FF:%d [81.]\n"
     ]
    },
    {
     "name": "stderr",
     "output_type": "stream",
     "text": [
      "/home/chanmingwei/.local/lib/python3.5/site-packages/sklearn/base.py:251: UserWarning: Trying to unpickle estimator LogisticRegression from version 0.19.2 when using version 0.20.0. This might lead to breaking code or invalid results. Use at your own risk.\n",
      "  UserWarning)\n"
     ]
    }
   ],
   "source": [
    "LMPBDY = h1_function(\"2015-01-06::2016-01-05\",\"LMPBDY Comdty\")"
   ]
  },
  {
   "cell_type": "code",
   "execution_count": 121,
   "metadata": {},
   "outputs": [
    {
     "name": "stdout",
     "output_type": "stream",
     "text": [
      "send2Log: Fetching generic for PBL1C\n",
      " \n",
      "\n",
      "\n",
      "Normalizing\n",
      "Normalizing OI:SHFE_Le_OI=>SHFE_Le_nOI\n",
      "198\n",
      "Overall Accuracy:%d [0.44949495]\n",
      "TT:%d [25.]\n",
      "TF:%d [30.]\n",
      "FT:%d [79.]\n",
      "FF:%d [64.]\n"
     ]
    },
    {
     "name": "stderr",
     "output_type": "stream",
     "text": [
      "/home/chanmingwei/.local/lib/python3.5/site-packages/sklearn/base.py:251: UserWarning: Trying to unpickle estimator LogisticRegression from version 0.19.2 when using version 0.20.0. This might lead to breaking code or invalid results. Use at your own risk.\n",
      "  UserWarning)\n"
     ]
    }
   ],
   "source": [
    "LMPBDY_test = h1_function(\"2016-01-06::2017-01-05\",\"LMPBDY Comdty\")"
   ]
  },
  {
   "cell_type": "code",
   "execution_count": 122,
   "metadata": {},
   "outputs": [
    {
     "name": "stdout",
     "output_type": "stream",
     "text": [
      "send2Log: Fetching generic for PBL1C\n",
      " \n",
      "\n",
      "\n",
      "Normalizing\n",
      "Normalizing OI:SHFE_Le_OI=>SHFE_Le_nOI\n",
      "528\n",
      "Overall Accuracy:%d [0.47348485]\n",
      "TT:%d [77.]\n",
      "TF:%d [84.]\n",
      "FT:%d [194.]\n",
      "FF:%d [173.]\n"
     ]
    },
    {
     "name": "stderr",
     "output_type": "stream",
     "text": [
      "/home/chanmingwei/.local/lib/python3.5/site-packages/sklearn/base.py:251: UserWarning: Trying to unpickle estimator LogisticRegression from version 0.19.2 when using version 0.20.0. This might lead to breaking code or invalid results. Use at your own risk.\n",
      "  UserWarning)\n"
     ]
    }
   ],
   "source": [
    "LMPBDY_holdout = h1_function(\"2017-01-06::\",\"LMPBDY Comdty\")"
   ]
  },
  {
   "cell_type": "code",
   "execution_count": 7,
   "metadata": {},
   "outputs": [
    {
     "name": "stdout",
     "output_type": "stream",
     "text": [
      "Normalizing\n",
      "190\n",
      "Overall Accuracy:%d [0.53157895]\n",
      "TT:%d [40.]\n",
      "TF:%d [46.]\n",
      "FT:%d [43.]\n",
      "FF:%d [61.]\n"
     ]
    },
    {
     "name": "stderr",
     "output_type": "stream",
     "text": [
      "/opt/anaconda2/envs/gpustudio-torch/lib/python3.5/site-packages/sklearn/base.py:251: UserWarning: Trying to unpickle estimator LogisticRegression from version 0.19.2 when using version 0.20.0. This might lead to breaking code or invalid results. Use at your own risk.\n",
      "  UserWarning)\n"
     ]
    }
   ],
   "source": [
    "LMZSDY = h1_function(\"2015-01-06::2016-01-05\",\"LMZSDY Comdty\")"
   ]
  },
  {
   "cell_type": "code",
   "execution_count": 125,
   "metadata": {},
   "outputs": [
    {
     "name": "stdout",
     "output_type": "stream",
     "text": [
      "Normalizing\n",
      "191\n",
      "Overall Accuracy:%d [0.5026178]\n",
      "TT:%d [49.]\n",
      "TF:%d [31.]\n",
      "FT:%d [64.]\n",
      "FF:%d [47.]\n"
     ]
    },
    {
     "name": "stderr",
     "output_type": "stream",
     "text": [
      "/home/chanmingwei/.local/lib/python3.5/site-packages/sklearn/base.py:251: UserWarning: Trying to unpickle estimator LogisticRegression from version 0.19.2 when using version 0.20.0. This might lead to breaking code or invalid results. Use at your own risk.\n",
      "  UserWarning)\n"
     ]
    }
   ],
   "source": [
    "LMZSDY_test = h1_function(\"2016-01-06::2017-01-05\",\"LMZSDY Comdty\")"
   ]
  },
  {
   "cell_type": "code",
   "execution_count": 126,
   "metadata": {},
   "outputs": [
    {
     "name": "stdout",
     "output_type": "stream",
     "text": [
      "Normalizing\n",
      "469\n",
      "Overall Accuracy:%d [0.4989339]\n",
      "TT:%d [101.]\n",
      "TF:%d [95.]\n",
      "FT:%d [140.]\n",
      "FF:%d [133.]\n"
     ]
    },
    {
     "name": "stderr",
     "output_type": "stream",
     "text": [
      "/home/chanmingwei/.local/lib/python3.5/site-packages/sklearn/base.py:251: UserWarning: Trying to unpickle estimator LogisticRegression from version 0.19.2 when using version 0.20.0. This might lead to breaking code or invalid results. Use at your own risk.\n",
      "  UserWarning)\n"
     ]
    }
   ],
   "source": [
    "LMZSDY_holdout = h1_function(\"2017-01-06::\",\"LMZSDY Comdty\")"
   ]
  },
  {
   "cell_type": "code",
   "execution_count": 8,
   "metadata": {
    "scrolled": false
   },
   "outputs": [
    {
     "name": "stdout",
     "output_type": "stream",
     "text": [
      "send2Log: Fetching generic for SI1S\n",
      " \n",
      "\n",
      "\n",
      "Normalizing\n",
      "160\n",
      "Overall Accuracy:%d [0.4875]\n",
      "TT:%d [34.]\n",
      "TF:%d [48.]\n",
      "FT:%d [34.]\n",
      "FF:%d [44.]\n"
     ]
    },
    {
     "name": "stderr",
     "output_type": "stream",
     "text": [
      "/opt/anaconda2/envs/gpustudio-torch/lib/python3.5/site-packages/sklearn/base.py:251: UserWarning: Trying to unpickle estimator LogisticRegression from version 0.19.2 when using version 0.20.0. This might lead to breaking code or invalid results. Use at your own risk.\n",
      "  UserWarning)\n"
     ]
    }
   ],
   "source": [
    "LMSNDY = h1_function(\"2015-01-06::2016-01-05\",\"LMSNDY Comdty\")"
   ]
  },
  {
   "cell_type": "code",
   "execution_count": 127,
   "metadata": {},
   "outputs": [
    {
     "name": "stdout",
     "output_type": "stream",
     "text": [
      "send2Log: Fetching generic for SI1S\n",
      " \n",
      "\n",
      "\n",
      "Normalizing\n",
      "165\n",
      "Overall Accuracy:%d [0.53333333]\n",
      "TT:%d [64.]\n",
      "TF:%d [43.]\n",
      "FT:%d [34.]\n",
      "FF:%d [24.]\n"
     ]
    },
    {
     "name": "stderr",
     "output_type": "stream",
     "text": [
      "/home/chanmingwei/.local/lib/python3.5/site-packages/sklearn/base.py:251: UserWarning: Trying to unpickle estimator LogisticRegression from version 0.19.2 when using version 0.20.0. This might lead to breaking code or invalid results. Use at your own risk.\n",
      "  UserWarning)\n"
     ]
    }
   ],
   "source": [
    "LMSNDY_test = h1_function(\"2016-01-06::2017-01-05\",\"LMSNDY Comdty\")"
   ]
  },
  {
   "cell_type": "code",
   "execution_count": 128,
   "metadata": {},
   "outputs": [
    {
     "name": "stdout",
     "output_type": "stream",
     "text": [
      "send2Log: Fetching generic for SI1S\n",
      " \n",
      "\n",
      "\n",
      "Normalizing\n",
      "454\n",
      "Overall Accuracy:%d [0.46475771]\n",
      "TT:%d [134.]\n",
      "TF:%d [141.]\n",
      "FT:%d [102.]\n",
      "FF:%d [77.]\n"
     ]
    },
    {
     "name": "stderr",
     "output_type": "stream",
     "text": [
      "/home/chanmingwei/.local/lib/python3.5/site-packages/sklearn/base.py:251: UserWarning: Trying to unpickle estimator LogisticRegression from version 0.19.2 when using version 0.20.0. This might lead to breaking code or invalid results. Use at your own risk.\n",
      "  UserWarning)\n"
     ]
    }
   ],
   "source": [
    "LMSNDY_holdout = h1_function(\"2017-01-06::\",\"LMSNDY Comdty\")"
   ]
  }
 ],
 "metadata": {
  "kernelspec": {
   "display_name": "Python 3",
   "language": "python",
   "name": "python3"
  },
  "language_info": {
   "codemirror_mode": {
    "name": "ipython",
    "version": 3
   },
   "file_extension": ".py",
   "mimetype": "text/x-python",
   "name": "python",
   "nbconvert_exporter": "python",
   "pygments_lexer": "ipython3",
   "version": "3.5.6"
  }
 },
 "nbformat": 4,
 "nbformat_minor": 2
}
