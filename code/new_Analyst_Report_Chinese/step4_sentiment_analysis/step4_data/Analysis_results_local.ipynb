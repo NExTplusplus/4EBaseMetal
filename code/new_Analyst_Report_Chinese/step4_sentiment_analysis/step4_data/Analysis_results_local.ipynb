{
 "cells": [
  {
   "cell_type": "code",
   "execution_count": 1,
   "metadata": {},
   "outputs": [],
   "source": [
    "import pandas as pd"
   ]
  },
  {
   "cell_type": "code",
   "execution_count": 2,
   "metadata": {},
   "outputs": [],
   "source": [
    "combine_result = pd.read_excel('combine_result.xlsx')"
   ]
  },
  {
   "cell_type": "code",
   "execution_count": 5,
   "metadata": {},
   "outputs": [],
   "source": [
    "combine_result = combine_result[['metal', 'freq_win', 'use_report_day', 'rolling_half', 'version', 'use_horizon',\n",
    "                                'cover_ratio', 'acc', 'acc_num', 'left_num', 'left_date_num', 'total_date_num']]"
   ]
  },
  {
   "cell_type": "code",
   "execution_count": 6,
   "metadata": {},
   "outputs": [],
   "source": [
    "short_term_combine_result = combine_result[combine_result['use_horizon']=='1_3_5']\n",
    "long_term_combine_result = combine_result[combine_result['use_horizon']=='10_20_60']"
   ]
  },
  {
   "cell_type": "code",
   "execution_count": 7,
   "metadata": {},
   "outputs": [],
   "source": [
    "def single_metal_analysis(met, df, \n",
    "                          freq_win_list=None, \n",
    "                          use_report_list=None, \n",
    "                          rolling_half_list=None, \n",
    "                          version_list=None):\n",
    "    \n",
    "    metal_df = df[df['metal']==met]\n",
    "    if freq_win_list == None:\n",
    "        freq_win_list  = [10, 15, 20]\n",
    "    \n",
    "    if use_report_list == None:\n",
    "        use_report_list = [1, 3, 5]\n",
    "    \n",
    "    if rolling_half_list == None:\n",
    "        rolling_half_list = ['1_half', '2_half', '3_half', '4_half']\n",
    "    \n",
    "    if version_list == None:\n",
    "        version_list = ['v2', 'v3']\n",
    "    print('------------------------testing the {}---------------------------'.format(met))\n",
    "    print('checking the freq_win of {}'.format(met))\n",
    "    for freq_win in freq_win_list:\n",
    "        tmp = metal_df[metal_df['freq_win']==freq_win]\n",
    "        print('freq_win = {}, the accuracy  is {}, cover_ratio is {}'.format(freq_win, tmp['acc_num'].sum()/tmp['left_num'].sum(), tmp['left_num'].sum()/tmp['report_num'].sum()))\n",
    "        del tmp\n",
    "    print('\\n')\n",
    "    print('checking the use_report_list of {}'.format(met))\n",
    "    for use_report in use_report_list:\n",
    "        tmp = metal_df[metal_df['use_report_day']==use_report]\n",
    "        print('use_report = {}, the accuracy  is {}, cover_ratio is {}'.format(use_report, tmp['acc_num'].sum()/tmp['left_num'].sum(), tmp['left_num'].sum()/tmp['report_num'].sum()))\n",
    "        del tmp\n",
    "    print('\\n')\n",
    "    print('checking the rolling_half of {}'.format(met))\n",
    "    for rolling_half in rolling_half_list:\n",
    "        tmp = metal_df[metal_df['rolling_half']==rolling_half]\n",
    "        print('rolling_half = {}, the accuracy  is {}, cover_ratio is {}'.format(rolling_half, tmp['acc_num'].sum()/tmp['left_num'].sum(), tmp['left_num'].sum()/tmp['report_num'].sum()))\n",
    "        del tmp\n",
    "    print('\\n')\n",
    "    print('checking the version_list of {}'.format(met))\n",
    "    for version in version_list:\n",
    "        tmp = metal_df[metal_df['version']==version]\n",
    "        print('version = {}, the accuracy  is {}, cover_ratio is {}'.format(version, tmp['acc_num'].sum()/tmp['left_num'].sum(), tmp['left_num'].sum()/tmp['report_num'].sum()))\n",
    "        del tmp\n",
    "    print('----------------------------------------------------------------')"
   ]
  },
  {
   "cell_type": "code",
   "execution_count": 8,
   "metadata": {},
   "outputs": [],
   "source": [
    "def all_metal_analysis(metal_list, df, \n",
    "                       freq_win_list=None, \n",
    "                       use_report_list=None, \n",
    "                       rolling_half_list=None, \n",
    "                       version_list=None):\n",
    "    metal_df = df[df['metal'].isin(metal_list)]\n",
    "    if freq_win_list == None:\n",
    "        freq_win_list  = [10, 15, 20]\n",
    "    \n",
    "    if use_report_list == None:\n",
    "        use_report_list = [1, 3, 5]\n",
    "    \n",
    "    if rolling_half_list == None:\n",
    "        rolling_half_list = ['1_half', '2_half', '3_half', '4_half']\n",
    "    \n",
    "    if version_list == None:\n",
    "        version_list = ['v2', 'v3']\n",
    "    print('------------------------testing the {}---------------------------'.format(','.join(metal_list)))\n",
    "    print('checking the freq_win of {}'.format(','.join(metal_list)))\n",
    "    for freq_win in freq_win_list:\n",
    "        tmp = metal_df[metal_df['freq_win']==freq_win]\n",
    "        print('freq_win = {}, the accuracy  is {}, cover_ratio is {}'.format(freq_win, tmp['acc_num'].sum()/tmp['left_num'].sum(), tmp['left_num'].sum()/tmp['report_num'].sum()))\n",
    "        del tmp\n",
    "    print('\\n')\n",
    "    print('checking the use_report_list of {}'.format(','.join(metal_list)))\n",
    "    for use_report in use_report_list:\n",
    "        tmp = metal_df[metal_df['use_report_day']==use_report]\n",
    "        print('use_report = {}, the accuracy  is {}, cover_ratio is {}'.format(use_report, tmp['acc_num'].sum()/tmp['left_num'].sum(), tmp['left_num'].sum()/tmp['report_num'].sum()))\n",
    "        del tmp\n",
    "    print('\\n')\n",
    "    print('checking the rolling_half of {}'.format(','.join(metal_list)))\n",
    "    for rolling_half in rolling_half_list:\n",
    "        tmp = metal_df[metal_df['rolling_half']==rolling_half]\n",
    "        print('rolling_half = {}, the accuracy  is {}, cover_ratio is {}'.format(rolling_half, tmp['acc_num'].sum()/tmp['left_num'].sum(), tmp['left_num'].sum()/tmp['report_num'].sum()))\n",
    "        del tmp\n",
    "    print('\\n')\n",
    "    print('checking the version_list of {}'.format(','.join(metal_list)))\n",
    "    for version in version_list:\n",
    "        tmp = metal_df[metal_df['version']==version]\n",
    "        print('version = {}, the accuracy  is {}, cover_ratio is {}'.format(version, tmp['acc_num'].sum()/tmp['left_num'].sum(), tmp['left_num'].sum()/tmp['report_num'].sum()))\n",
    "        del tmp\n",
    "    print('----------------------------------------------------------------')"
   ]
  },
  {
   "cell_type": "code",
   "execution_count": 9,
   "metadata": {},
   "outputs": [],
   "source": [
    "def different_metal_certain_factor_analysis(metal_list, df, consider_param):\n",
    "    target_param = list(df[consider_param].unique())\n",
    "    \n",
    "    res_df = pd.DataFrame()\n",
    "    res_df['metal'] = metal_list\n",
    "    for tar in target_param:\n",
    "        tmp = []\n",
    "        for met in metal_list:\n",
    "            tmp_df = df[(df['metal']==met)&(df[consider_param]==tar)]\n",
    "            tmp.append(tmp_df['acc_num'].sum()/tmp_df['left_num'].sum())\n",
    "        res_df[tar] = tmp\n",
    "    \n",
    "    for tar in target_param:\n",
    "        tmp_df = df[df[consider_param] == tar]\n",
    "        print('{} is {}, accuracy is {}'.format(consider_param, tar,tmp_df['acc_num'].sum()/tmp_df['left_num'].sum() ))\n",
    "    \n",
    "    return res_df"
   ]
  },
  {
   "cell_type": "code",
   "execution_count": 10,
   "metadata": {},
   "outputs": [],
   "source": [
    "def choose_metal(metal_list, df):\n",
    "    res_df = pd.DataFrame()\n",
    "    res_df['metal'] = metal_list\n",
    "    \n",
    "    accuracy = []\n",
    "    for met in metal_list:\n",
    "        tmp_df = df[df['metal']==met]\n",
    "        accuracy.append(tmp_df['acc_num'].sum()/tmp_df['left_num'].sum())\n",
    "    res_df['acc'] =  accuracy\n",
    "    \n",
    "    print(df['acc_num'].sum()/df['left_num'].sum())\n",
    "    return res_df"
   ]
  },
  {
   "cell_type": "markdown",
   "metadata": {},
   "source": [
    "# Analyze the freq_window"
   ]
  },
  {
   "cell_type": "markdown",
   "metadata": {},
   "source": [
    "For the short term:<br>\n",
    "The overall performance is better<br>\n",
    "In summary, we can choose freq_win 15<br><br>\n",
    "\n",
    "For the long term:<br>\n",
    "The overall performance is worse than the short term<br>\n",
    "In summary, we can choose freq_win 20<br><br>\n"
   ]
  },
  {
   "cell_type": "code",
   "execution_count": 11,
   "metadata": {},
   "outputs": [
    {
     "name": "stdout",
     "output_type": "stream",
     "text": [
      "freq_win is 10, accuracy is 0.49004070425588286\n",
      "freq_win is 15, accuracy is 0.4937092636462949\n",
      "freq_win is 20, accuracy is 0.48673216867174673\n"
     ]
    },
    {
     "data": {
      "text/html": [
       "<div>\n",
       "<style scoped>\n",
       "    .dataframe tbody tr th:only-of-type {\n",
       "        vertical-align: middle;\n",
       "    }\n",
       "\n",
       "    .dataframe tbody tr th {\n",
       "        vertical-align: top;\n",
       "    }\n",
       "\n",
       "    .dataframe thead th {\n",
       "        text-align: right;\n",
       "    }\n",
       "</style>\n",
       "<table border=\"1\" class=\"dataframe\">\n",
       "  <thead>\n",
       "    <tr style=\"text-align: right;\">\n",
       "      <th></th>\n",
       "      <th>metal</th>\n",
       "      <th>10</th>\n",
       "      <th>15</th>\n",
       "      <th>20</th>\n",
       "    </tr>\n",
       "  </thead>\n",
       "  <tbody>\n",
       "    <tr>\n",
       "      <th>0</th>\n",
       "      <td>Ni</td>\n",
       "      <td>0.511837</td>\n",
       "      <td>0.495078</td>\n",
       "      <td>0.497426</td>\n",
       "    </tr>\n",
       "    <tr>\n",
       "      <th>1</th>\n",
       "      <td>Zn</td>\n",
       "      <td>0.491817</td>\n",
       "      <td>0.500032</td>\n",
       "      <td>0.498071</td>\n",
       "    </tr>\n",
       "    <tr>\n",
       "      <th>2</th>\n",
       "      <td>Pb</td>\n",
       "      <td>0.473865</td>\n",
       "      <td>0.471584</td>\n",
       "      <td>0.471514</td>\n",
       "    </tr>\n",
       "    <tr>\n",
       "      <th>3</th>\n",
       "      <td>Xi</td>\n",
       "      <td>0.462868</td>\n",
       "      <td>0.453857</td>\n",
       "      <td>0.458921</td>\n",
       "    </tr>\n",
       "    <tr>\n",
       "      <th>4</th>\n",
       "      <td>Al</td>\n",
       "      <td>0.501983</td>\n",
       "      <td>0.512608</td>\n",
       "      <td>0.494893</td>\n",
       "    </tr>\n",
       "    <tr>\n",
       "      <th>5</th>\n",
       "      <td>Cu</td>\n",
       "      <td>0.480898</td>\n",
       "      <td>0.503644</td>\n",
       "      <td>0.482057</td>\n",
       "    </tr>\n",
       "  </tbody>\n",
       "</table>\n",
       "</div>"
      ],
      "text/plain": [
       "  metal        10        15        20\n",
       "0    Ni  0.511837  0.495078  0.497426\n",
       "1    Zn  0.491817  0.500032  0.498071\n",
       "2    Pb  0.473865  0.471584  0.471514\n",
       "3    Xi  0.462868  0.453857  0.458921\n",
       "4    Al  0.501983  0.512608  0.494893\n",
       "5    Cu  0.480898  0.503644  0.482057"
      ]
     },
     "execution_count": 11,
     "metadata": {},
     "output_type": "execute_result"
    }
   ],
   "source": [
    "different_metal_certain_factor_analysis(['Ni', 'Zn', 'Pb', 'Xi', 'Al', 'Cu'], short_term_combine_result,'freq_win')"
   ]
  },
  {
   "cell_type": "code",
   "execution_count": 12,
   "metadata": {},
   "outputs": [
    {
     "name": "stdout",
     "output_type": "stream",
     "text": [
      "freq_win is 10, accuracy is 0.4586095410880841\n",
      "freq_win is 15, accuracy is 0.45605795535934435\n",
      "freq_win is 20, accuracy is 0.46213954366789034\n"
     ]
    },
    {
     "data": {
      "text/html": [
       "<div>\n",
       "<style scoped>\n",
       "    .dataframe tbody tr th:only-of-type {\n",
       "        vertical-align: middle;\n",
       "    }\n",
       "\n",
       "    .dataframe tbody tr th {\n",
       "        vertical-align: top;\n",
       "    }\n",
       "\n",
       "    .dataframe thead th {\n",
       "        text-align: right;\n",
       "    }\n",
       "</style>\n",
       "<table border=\"1\" class=\"dataframe\">\n",
       "  <thead>\n",
       "    <tr style=\"text-align: right;\">\n",
       "      <th></th>\n",
       "      <th>metal</th>\n",
       "      <th>10</th>\n",
       "      <th>15</th>\n",
       "      <th>20</th>\n",
       "    </tr>\n",
       "  </thead>\n",
       "  <tbody>\n",
       "    <tr>\n",
       "      <th>0</th>\n",
       "      <td>Ni</td>\n",
       "      <td>0.469029</td>\n",
       "      <td>0.462684</td>\n",
       "      <td>0.448018</td>\n",
       "    </tr>\n",
       "    <tr>\n",
       "      <th>1</th>\n",
       "      <td>Zn</td>\n",
       "      <td>0.470896</td>\n",
       "      <td>0.466885</td>\n",
       "      <td>0.475061</td>\n",
       "    </tr>\n",
       "    <tr>\n",
       "      <th>2</th>\n",
       "      <td>Pb</td>\n",
       "      <td>0.370075</td>\n",
       "      <td>0.380873</td>\n",
       "      <td>0.409087</td>\n",
       "    </tr>\n",
       "    <tr>\n",
       "      <th>3</th>\n",
       "      <td>Xi</td>\n",
       "      <td>0.453553</td>\n",
       "      <td>0.451759</td>\n",
       "      <td>0.453696</td>\n",
       "    </tr>\n",
       "    <tr>\n",
       "      <th>4</th>\n",
       "      <td>Al</td>\n",
       "      <td>0.503281</td>\n",
       "      <td>0.519153</td>\n",
       "      <td>0.523908</td>\n",
       "    </tr>\n",
       "    <tr>\n",
       "      <th>5</th>\n",
       "      <td>Cu</td>\n",
       "      <td>0.453615</td>\n",
       "      <td>0.430726</td>\n",
       "      <td>0.442051</td>\n",
       "    </tr>\n",
       "  </tbody>\n",
       "</table>\n",
       "</div>"
      ],
      "text/plain": [
       "  metal        10        15        20\n",
       "0    Ni  0.469029  0.462684  0.448018\n",
       "1    Zn  0.470896  0.466885  0.475061\n",
       "2    Pb  0.370075  0.380873  0.409087\n",
       "3    Xi  0.453553  0.451759  0.453696\n",
       "4    Al  0.503281  0.519153  0.523908\n",
       "5    Cu  0.453615  0.430726  0.442051"
      ]
     },
     "execution_count": 12,
     "metadata": {},
     "output_type": "execute_result"
    }
   ],
   "source": [
    "different_metal_certain_factor_analysis(['Ni', 'Zn', 'Pb', 'Xi', 'Al', 'Cu'], long_term_combine_result,'freq_win')"
   ]
  },
  {
   "cell_type": "markdown",
   "metadata": {},
   "source": [
    "# Analyze the use_report"
   ]
  },
  {
   "cell_type": "markdown",
   "metadata": {},
   "source": [
    "For long short term, use_reprot = 1 should be chosen."
   ]
  },
  {
   "cell_type": "code",
   "execution_count": 13,
   "metadata": {
    "scrolled": true
   },
   "outputs": [
    {
     "name": "stdout",
     "output_type": "stream",
     "text": [
      "use_report_day is 1, accuracy is 0.4939499332178421\n",
      "use_report_day is 3, accuracy is 0.48680510491023143\n",
      "use_report_day is 5, accuracy is 0.4900687285223368\n"
     ]
    },
    {
     "data": {
      "text/html": [
       "<div>\n",
       "<style scoped>\n",
       "    .dataframe tbody tr th:only-of-type {\n",
       "        vertical-align: middle;\n",
       "    }\n",
       "\n",
       "    .dataframe tbody tr th {\n",
       "        vertical-align: top;\n",
       "    }\n",
       "\n",
       "    .dataframe thead th {\n",
       "        text-align: right;\n",
       "    }\n",
       "</style>\n",
       "<table border=\"1\" class=\"dataframe\">\n",
       "  <thead>\n",
       "    <tr style=\"text-align: right;\">\n",
       "      <th></th>\n",
       "      <th>metal</th>\n",
       "      <th>1</th>\n",
       "      <th>3</th>\n",
       "      <th>5</th>\n",
       "    </tr>\n",
       "  </thead>\n",
       "  <tbody>\n",
       "    <tr>\n",
       "      <th>0</th>\n",
       "      <td>Ni</td>\n",
       "      <td>0.498971</td>\n",
       "      <td>0.505718</td>\n",
       "      <td>0.499874</td>\n",
       "    </tr>\n",
       "    <tr>\n",
       "      <th>1</th>\n",
       "      <td>Zn</td>\n",
       "      <td>0.496066</td>\n",
       "      <td>0.493247</td>\n",
       "      <td>0.500429</td>\n",
       "    </tr>\n",
       "    <tr>\n",
       "      <th>2</th>\n",
       "      <td>Pb</td>\n",
       "      <td>0.470410</td>\n",
       "      <td>0.467966</td>\n",
       "      <td>0.477949</td>\n",
       "    </tr>\n",
       "    <tr>\n",
       "      <th>3</th>\n",
       "      <td>Xi</td>\n",
       "      <td>0.485930</td>\n",
       "      <td>0.441610</td>\n",
       "      <td>0.455339</td>\n",
       "    </tr>\n",
       "    <tr>\n",
       "      <th>4</th>\n",
       "      <td>Al</td>\n",
       "      <td>0.506066</td>\n",
       "      <td>0.499585</td>\n",
       "      <td>0.504014</td>\n",
       "    </tr>\n",
       "    <tr>\n",
       "      <th>5</th>\n",
       "      <td>Cu</td>\n",
       "      <td>0.496751</td>\n",
       "      <td>0.486313</td>\n",
       "      <td>0.484314</td>\n",
       "    </tr>\n",
       "  </tbody>\n",
       "</table>\n",
       "</div>"
      ],
      "text/plain": [
       "  metal         1         3         5\n",
       "0    Ni  0.498971  0.505718  0.499874\n",
       "1    Zn  0.496066  0.493247  0.500429\n",
       "2    Pb  0.470410  0.467966  0.477949\n",
       "3    Xi  0.485930  0.441610  0.455339\n",
       "4    Al  0.506066  0.499585  0.504014\n",
       "5    Cu  0.496751  0.486313  0.484314"
      ]
     },
     "execution_count": 13,
     "metadata": {},
     "output_type": "execute_result"
    }
   ],
   "source": [
    "different_metal_certain_factor_analysis(['Ni', 'Zn', 'Pb', 'Xi', 'Al', 'Cu'], short_term_combine_result,'use_report_day')"
   ]
  },
  {
   "cell_type": "code",
   "execution_count": 14,
   "metadata": {},
   "outputs": [
    {
     "name": "stdout",
     "output_type": "stream",
     "text": [
      "use_report_day is 1, accuracy is 0.46515192152956053\n",
      "use_report_day is 3, accuracy is 0.4540944078642307\n",
      "use_report_day is 5, accuracy is 0.4581603933722471\n"
     ]
    },
    {
     "data": {
      "text/html": [
       "<div>\n",
       "<style scoped>\n",
       "    .dataframe tbody tr th:only-of-type {\n",
       "        vertical-align: middle;\n",
       "    }\n",
       "\n",
       "    .dataframe tbody tr th {\n",
       "        vertical-align: top;\n",
       "    }\n",
       "\n",
       "    .dataframe thead th {\n",
       "        text-align: right;\n",
       "    }\n",
       "</style>\n",
       "<table border=\"1\" class=\"dataframe\">\n",
       "  <thead>\n",
       "    <tr style=\"text-align: right;\">\n",
       "      <th></th>\n",
       "      <th>metal</th>\n",
       "      <th>1</th>\n",
       "      <th>3</th>\n",
       "      <th>5</th>\n",
       "    </tr>\n",
       "  </thead>\n",
       "  <tbody>\n",
       "    <tr>\n",
       "      <th>0</th>\n",
       "      <td>Ni</td>\n",
       "      <td>0.461855</td>\n",
       "      <td>0.459898</td>\n",
       "      <td>0.458499</td>\n",
       "    </tr>\n",
       "    <tr>\n",
       "      <th>1</th>\n",
       "      <td>Zn</td>\n",
       "      <td>0.472841</td>\n",
       "      <td>0.466074</td>\n",
       "      <td>0.473871</td>\n",
       "    </tr>\n",
       "    <tr>\n",
       "      <th>2</th>\n",
       "      <td>Pb</td>\n",
       "      <td>0.394026</td>\n",
       "      <td>0.381591</td>\n",
       "      <td>0.386408</td>\n",
       "    </tr>\n",
       "    <tr>\n",
       "      <th>3</th>\n",
       "      <td>Xi</td>\n",
       "      <td>0.465236</td>\n",
       "      <td>0.437741</td>\n",
       "      <td>0.456952</td>\n",
       "    </tr>\n",
       "    <tr>\n",
       "      <th>4</th>\n",
       "      <td>Al</td>\n",
       "      <td>0.516571</td>\n",
       "      <td>0.510763</td>\n",
       "      <td>0.518536</td>\n",
       "    </tr>\n",
       "    <tr>\n",
       "      <th>5</th>\n",
       "      <td>Cu</td>\n",
       "      <td>0.448229</td>\n",
       "      <td>0.438812</td>\n",
       "      <td>0.439455</td>\n",
       "    </tr>\n",
       "  </tbody>\n",
       "</table>\n",
       "</div>"
      ],
      "text/plain": [
       "  metal         1         3         5\n",
       "0    Ni  0.461855  0.459898  0.458499\n",
       "1    Zn  0.472841  0.466074  0.473871\n",
       "2    Pb  0.394026  0.381591  0.386408\n",
       "3    Xi  0.465236  0.437741  0.456952\n",
       "4    Al  0.516571  0.510763  0.518536\n",
       "5    Cu  0.448229  0.438812  0.439455"
      ]
     },
     "execution_count": 14,
     "metadata": {},
     "output_type": "execute_result"
    }
   ],
   "source": [
    "different_metal_certain_factor_analysis(['Ni', 'Zn', 'Pb', 'Xi', 'Al', 'Cu'], long_term_combine_result,'use_report_day')"
   ]
  },
  {
   "cell_type": "markdown",
   "metadata": {},
   "source": [
    "# Analyze the rolling half"
   ]
  },
  {
   "cell_type": "markdown",
   "metadata": {},
   "source": [
    "For short term:<br>\n",
    "Rolling in 1 half should be chosen<br><br>\n",
    "\n",
    "For long term:<br>\n",
    "Rolling in 4 half may be chosen <br>"
   ]
  },
  {
   "cell_type": "code",
   "execution_count": 15,
   "metadata": {
    "scrolled": true
   },
   "outputs": [
    {
     "name": "stdout",
     "output_type": "stream",
     "text": [
      "rolling_half is 1_half, accuracy is 0.511620819632689\n",
      "rolling_half is 2_half, accuracy is 0.48950270818674213\n",
      "rolling_half is 3_half, accuracy is 0.4757657879609099\n",
      "rolling_half is 4_half, accuracy is 0.48333117555670635\n"
     ]
    },
    {
     "data": {
      "text/html": [
       "<div>\n",
       "<style scoped>\n",
       "    .dataframe tbody tr th:only-of-type {\n",
       "        vertical-align: middle;\n",
       "    }\n",
       "\n",
       "    .dataframe tbody tr th {\n",
       "        vertical-align: top;\n",
       "    }\n",
       "\n",
       "    .dataframe thead th {\n",
       "        text-align: right;\n",
       "    }\n",
       "</style>\n",
       "<table border=\"1\" class=\"dataframe\">\n",
       "  <thead>\n",
       "    <tr style=\"text-align: right;\">\n",
       "      <th></th>\n",
       "      <th>metal</th>\n",
       "      <th>1_half</th>\n",
       "      <th>2_half</th>\n",
       "      <th>3_half</th>\n",
       "      <th>4_half</th>\n",
       "    </tr>\n",
       "  </thead>\n",
       "  <tbody>\n",
       "    <tr>\n",
       "      <th>0</th>\n",
       "      <td>Ni</td>\n",
       "      <td>0.571548</td>\n",
       "      <td>0.444707</td>\n",
       "      <td>0.510438</td>\n",
       "      <td>0.471161</td>\n",
       "    </tr>\n",
       "    <tr>\n",
       "      <th>1</th>\n",
       "      <td>Zn</td>\n",
       "      <td>0.477969</td>\n",
       "      <td>0.487414</td>\n",
       "      <td>0.499547</td>\n",
       "      <td>0.522805</td>\n",
       "    </tr>\n",
       "    <tr>\n",
       "      <th>2</th>\n",
       "      <td>Pb</td>\n",
       "      <td>0.500000</td>\n",
       "      <td>0.474434</td>\n",
       "      <td>0.464516</td>\n",
       "      <td>0.446725</td>\n",
       "    </tr>\n",
       "    <tr>\n",
       "      <th>3</th>\n",
       "      <td>Xi</td>\n",
       "      <td>0.437485</td>\n",
       "      <td>0.478335</td>\n",
       "      <td>0.434631</td>\n",
       "      <td>0.477524</td>\n",
       "    </tr>\n",
       "    <tr>\n",
       "      <th>4</th>\n",
       "      <td>Al</td>\n",
       "      <td>0.509925</td>\n",
       "      <td>0.531521</td>\n",
       "      <td>0.499422</td>\n",
       "      <td>0.471508</td>\n",
       "    </tr>\n",
       "    <tr>\n",
       "      <th>5</th>\n",
       "      <td>Cu</td>\n",
       "      <td>0.527713</td>\n",
       "      <td>0.508356</td>\n",
       "      <td>0.430066</td>\n",
       "      <td>0.496239</td>\n",
       "    </tr>\n",
       "  </tbody>\n",
       "</table>\n",
       "</div>"
      ],
      "text/plain": [
       "  metal    1_half    2_half    3_half    4_half\n",
       "0    Ni  0.571548  0.444707  0.510438  0.471161\n",
       "1    Zn  0.477969  0.487414  0.499547  0.522805\n",
       "2    Pb  0.500000  0.474434  0.464516  0.446725\n",
       "3    Xi  0.437485  0.478335  0.434631  0.477524\n",
       "4    Al  0.509925  0.531521  0.499422  0.471508\n",
       "5    Cu  0.527713  0.508356  0.430066  0.496239"
      ]
     },
     "execution_count": 15,
     "metadata": {},
     "output_type": "execute_result"
    }
   ],
   "source": [
    "different_metal_certain_factor_analysis(['Ni', 'Zn', 'Pb', 'Xi', 'Al', 'Cu'], short_term_combine_result,'rolling_half')"
   ]
  },
  {
   "cell_type": "code",
   "execution_count": 16,
   "metadata": {},
   "outputs": [
    {
     "name": "stdout",
     "output_type": "stream",
     "text": [
      "rolling_half is 1_half, accuracy is 0.4534560749146893\n",
      "rolling_half is 2_half, accuracy is 0.47005767167381973\n",
      "rolling_half is 3_half, accuracy is 0.4321877674632958\n",
      "rolling_half is 4_half, accuracy is 0.481892289188828\n"
     ]
    },
    {
     "data": {
      "text/html": [
       "<div>\n",
       "<style scoped>\n",
       "    .dataframe tbody tr th:only-of-type {\n",
       "        vertical-align: middle;\n",
       "    }\n",
       "\n",
       "    .dataframe tbody tr th {\n",
       "        vertical-align: top;\n",
       "    }\n",
       "\n",
       "    .dataframe thead th {\n",
       "        text-align: right;\n",
       "    }\n",
       "</style>\n",
       "<table border=\"1\" class=\"dataframe\">\n",
       "  <thead>\n",
       "    <tr style=\"text-align: right;\">\n",
       "      <th></th>\n",
       "      <th>metal</th>\n",
       "      <th>1_half</th>\n",
       "      <th>2_half</th>\n",
       "      <th>3_half</th>\n",
       "      <th>4_half</th>\n",
       "    </tr>\n",
       "  </thead>\n",
       "  <tbody>\n",
       "    <tr>\n",
       "      <th>0</th>\n",
       "      <td>Ni</td>\n",
       "      <td>0.465412</td>\n",
       "      <td>0.394785</td>\n",
       "      <td>0.476425</td>\n",
       "      <td>0.500890</td>\n",
       "    </tr>\n",
       "    <tr>\n",
       "      <th>1</th>\n",
       "      <td>Zn</td>\n",
       "      <td>0.436802</td>\n",
       "      <td>0.469143</td>\n",
       "      <td>0.441410</td>\n",
       "      <td>0.546565</td>\n",
       "    </tr>\n",
       "    <tr>\n",
       "      <th>2</th>\n",
       "      <td>Pb</td>\n",
       "      <td>0.427701</td>\n",
       "      <td>0.388188</td>\n",
       "      <td>0.337049</td>\n",
       "      <td>0.383105</td>\n",
       "    </tr>\n",
       "    <tr>\n",
       "      <th>3</th>\n",
       "      <td>Xi</td>\n",
       "      <td>0.422949</td>\n",
       "      <td>0.437010</td>\n",
       "      <td>0.446747</td>\n",
       "      <td>0.537677</td>\n",
       "    </tr>\n",
       "    <tr>\n",
       "      <th>4</th>\n",
       "      <td>Al</td>\n",
       "      <td>0.466335</td>\n",
       "      <td>0.616911</td>\n",
       "      <td>0.515391</td>\n",
       "      <td>0.467450</td>\n",
       "    </tr>\n",
       "    <tr>\n",
       "      <th>5</th>\n",
       "      <td>Cu</td>\n",
       "      <td>0.487979</td>\n",
       "      <td>0.474804</td>\n",
       "      <td>0.344526</td>\n",
       "      <td>0.452863</td>\n",
       "    </tr>\n",
       "  </tbody>\n",
       "</table>\n",
       "</div>"
      ],
      "text/plain": [
       "  metal    1_half    2_half    3_half    4_half\n",
       "0    Ni  0.465412  0.394785  0.476425  0.500890\n",
       "1    Zn  0.436802  0.469143  0.441410  0.546565\n",
       "2    Pb  0.427701  0.388188  0.337049  0.383105\n",
       "3    Xi  0.422949  0.437010  0.446747  0.537677\n",
       "4    Al  0.466335  0.616911  0.515391  0.467450\n",
       "5    Cu  0.487979  0.474804  0.344526  0.452863"
      ]
     },
     "execution_count": 16,
     "metadata": {},
     "output_type": "execute_result"
    }
   ],
   "source": [
    "different_metal_certain_factor_analysis(['Ni', 'Zn', 'Pb', 'Xi', 'Al', 'Cu'], long_term_combine_result,'rolling_half')"
   ]
  },
  {
   "cell_type": "markdown",
   "metadata": {},
   "source": [
    "# Analyze the version"
   ]
  },
  {
   "cell_type": "markdown",
   "metadata": {},
   "source": [
    "For long short term<br>\n",
    "version have little differences."
   ]
  },
  {
   "cell_type": "code",
   "execution_count": 17,
   "metadata": {},
   "outputs": [
    {
     "name": "stdout",
     "output_type": "stream",
     "text": [
      "version is v2, accuracy is 0.48959276749902964\n",
      "version is v3, accuracy is 0.4907282659285207\n"
     ]
    },
    {
     "data": {
      "text/html": [
       "<div>\n",
       "<style scoped>\n",
       "    .dataframe tbody tr th:only-of-type {\n",
       "        vertical-align: middle;\n",
       "    }\n",
       "\n",
       "    .dataframe tbody tr th {\n",
       "        vertical-align: top;\n",
       "    }\n",
       "\n",
       "    .dataframe thead th {\n",
       "        text-align: right;\n",
       "    }\n",
       "</style>\n",
       "<table border=\"1\" class=\"dataframe\">\n",
       "  <thead>\n",
       "    <tr style=\"text-align: right;\">\n",
       "      <th></th>\n",
       "      <th>metal</th>\n",
       "      <th>v2</th>\n",
       "      <th>v3</th>\n",
       "    </tr>\n",
       "  </thead>\n",
       "  <tbody>\n",
       "    <tr>\n",
       "      <th>0</th>\n",
       "      <td>Ni</td>\n",
       "      <td>0.500799</td>\n",
       "      <td>0.502382</td>\n",
       "    </tr>\n",
       "    <tr>\n",
       "      <th>1</th>\n",
       "      <td>Zn</td>\n",
       "      <td>0.496516</td>\n",
       "      <td>0.496726</td>\n",
       "    </tr>\n",
       "    <tr>\n",
       "      <th>2</th>\n",
       "      <td>Pb</td>\n",
       "      <td>0.471491</td>\n",
       "      <td>0.473255</td>\n",
       "    </tr>\n",
       "    <tr>\n",
       "      <th>3</th>\n",
       "      <td>Xi</td>\n",
       "      <td>0.456358</td>\n",
       "      <td>0.460568</td>\n",
       "    </tr>\n",
       "    <tr>\n",
       "      <th>4</th>\n",
       "      <td>Al</td>\n",
       "      <td>0.503353</td>\n",
       "      <td>0.503034</td>\n",
       "    </tr>\n",
       "    <tr>\n",
       "      <th>5</th>\n",
       "      <td>Cu</td>\n",
       "      <td>0.488590</td>\n",
       "      <td>0.489349</td>\n",
       "    </tr>\n",
       "  </tbody>\n",
       "</table>\n",
       "</div>"
      ],
      "text/plain": [
       "  metal        v2        v3\n",
       "0    Ni  0.500799  0.502382\n",
       "1    Zn  0.496516  0.496726\n",
       "2    Pb  0.471491  0.473255\n",
       "3    Xi  0.456358  0.460568\n",
       "4    Al  0.503353  0.503034\n",
       "5    Cu  0.488590  0.489349"
      ]
     },
     "execution_count": 17,
     "metadata": {},
     "output_type": "execute_result"
    }
   ],
   "source": [
    "different_metal_certain_factor_analysis(['Ni', 'Zn', 'Pb', 'Xi', 'Al', 'Cu'], short_term_combine_result,'version')"
   ]
  },
  {
   "cell_type": "code",
   "execution_count": 18,
   "metadata": {},
   "outputs": [
    {
     "name": "stdout",
     "output_type": "stream",
     "text": [
      "version is v2, accuracy is 0.4598668508981284\n",
      "version is v3, accuracy is 0.4579993462933275\n"
     ]
    },
    {
     "data": {
      "text/html": [
       "<div>\n",
       "<style scoped>\n",
       "    .dataframe tbody tr th:only-of-type {\n",
       "        vertical-align: middle;\n",
       "    }\n",
       "\n",
       "    .dataframe tbody tr th {\n",
       "        vertical-align: top;\n",
       "    }\n",
       "\n",
       "    .dataframe thead th {\n",
       "        text-align: right;\n",
       "    }\n",
       "</style>\n",
       "<table border=\"1\" class=\"dataframe\">\n",
       "  <thead>\n",
       "    <tr style=\"text-align: right;\">\n",
       "      <th></th>\n",
       "      <th>metal</th>\n",
       "      <th>v2</th>\n",
       "      <th>v3</th>\n",
       "    </tr>\n",
       "  </thead>\n",
       "  <tbody>\n",
       "    <tr>\n",
       "      <th>0</th>\n",
       "      <td>Ni</td>\n",
       "      <td>0.460722</td>\n",
       "      <td>0.459302</td>\n",
       "    </tr>\n",
       "    <tr>\n",
       "      <th>1</th>\n",
       "      <td>Zn</td>\n",
       "      <td>0.471301</td>\n",
       "      <td>0.470577</td>\n",
       "    </tr>\n",
       "    <tr>\n",
       "      <th>2</th>\n",
       "      <td>Pb</td>\n",
       "      <td>0.392165</td>\n",
       "      <td>0.381504</td>\n",
       "    </tr>\n",
       "    <tr>\n",
       "      <th>3</th>\n",
       "      <td>Xi</td>\n",
       "      <td>0.450191</td>\n",
       "      <td>0.455789</td>\n",
       "    </tr>\n",
       "    <tr>\n",
       "      <th>4</th>\n",
       "      <td>Al</td>\n",
       "      <td>0.513968</td>\n",
       "      <td>0.516592</td>\n",
       "    </tr>\n",
       "    <tr>\n",
       "      <th>5</th>\n",
       "      <td>Cu</td>\n",
       "      <td>0.442847</td>\n",
       "      <td>0.441322</td>\n",
       "    </tr>\n",
       "  </tbody>\n",
       "</table>\n",
       "</div>"
      ],
      "text/plain": [
       "  metal        v2        v3\n",
       "0    Ni  0.460722  0.459302\n",
       "1    Zn  0.471301  0.470577\n",
       "2    Pb  0.392165  0.381504\n",
       "3    Xi  0.450191  0.455789\n",
       "4    Al  0.513968  0.516592\n",
       "5    Cu  0.442847  0.441322"
      ]
     },
     "execution_count": 18,
     "metadata": {},
     "output_type": "execute_result"
    }
   ],
   "source": [
    "different_metal_certain_factor_analysis(['Ni', 'Zn', 'Pb', 'Xi', 'Al', 'Cu'], long_term_combine_result,'version')"
   ]
  },
  {
   "cell_type": "markdown",
   "metadata": {},
   "source": [
    "# We fisrt fix the rolling half for long term and short term"
   ]
  },
  {
   "cell_type": "markdown",
   "metadata": {},
   "source": [
    "For short-term result, we use rolling half: 1 half\n",
    "For long-term result, we use rolling half : 4 half"
   ]
  },
  {
   "cell_type": "code",
   "execution_count": 19,
   "metadata": {},
   "outputs": [],
   "source": [
    "short_term_combine_result_rolling_one_half = short_term_combine_result[short_term_combine_result['rolling_half'] == '1_half']\n",
    "long_term_combine_result_rolling_four_half = long_term_combine_result[long_term_combine_result['rolling_half']=='4_half']"
   ]
  },
  {
   "cell_type": "markdown",
   "metadata": {},
   "source": [
    "# Analyse freq_win"
   ]
  },
  {
   "cell_type": "code",
   "execution_count": 20,
   "metadata": {},
   "outputs": [
    {
     "name": "stdout",
     "output_type": "stream",
     "text": [
      "freq_win is 10, accuracy is 0.5046279155868197\n",
      "freq_win is 15, accuracy is 0.5205851826224485\n",
      "freq_win is 20, accuracy is 0.5101443620756926\n"
     ]
    },
    {
     "data": {
      "text/html": [
       "<div>\n",
       "<style scoped>\n",
       "    .dataframe tbody tr th:only-of-type {\n",
       "        vertical-align: middle;\n",
       "    }\n",
       "\n",
       "    .dataframe tbody tr th {\n",
       "        vertical-align: top;\n",
       "    }\n",
       "\n",
       "    .dataframe thead th {\n",
       "        text-align: right;\n",
       "    }\n",
       "</style>\n",
       "<table border=\"1\" class=\"dataframe\">\n",
       "  <thead>\n",
       "    <tr style=\"text-align: right;\">\n",
       "      <th></th>\n",
       "      <th>metal</th>\n",
       "      <th>10</th>\n",
       "      <th>15</th>\n",
       "      <th>20</th>\n",
       "    </tr>\n",
       "  </thead>\n",
       "  <tbody>\n",
       "    <tr>\n",
       "      <th>0</th>\n",
       "      <td>Ni</td>\n",
       "      <td>0.564452</td>\n",
       "      <td>0.579183</td>\n",
       "      <td>0.571463</td>\n",
       "    </tr>\n",
       "    <tr>\n",
       "      <th>1</th>\n",
       "      <td>Zn</td>\n",
       "      <td>0.472592</td>\n",
       "      <td>0.493705</td>\n",
       "      <td>0.468608</td>\n",
       "    </tr>\n",
       "    <tr>\n",
       "      <th>2</th>\n",
       "      <td>Pb</td>\n",
       "      <td>0.505537</td>\n",
       "      <td>0.496047</td>\n",
       "      <td>0.498275</td>\n",
       "    </tr>\n",
       "    <tr>\n",
       "      <th>3</th>\n",
       "      <td>Xi</td>\n",
       "      <td>0.440451</td>\n",
       "      <td>0.436480</td>\n",
       "      <td>0.435518</td>\n",
       "    </tr>\n",
       "    <tr>\n",
       "      <th>4</th>\n",
       "      <td>Al</td>\n",
       "      <td>0.504240</td>\n",
       "      <td>0.519603</td>\n",
       "      <td>0.506465</td>\n",
       "    </tr>\n",
       "    <tr>\n",
       "      <th>5</th>\n",
       "      <td>Cu</td>\n",
       "      <td>0.502134</td>\n",
       "      <td>0.547481</td>\n",
       "      <td>0.536395</td>\n",
       "    </tr>\n",
       "  </tbody>\n",
       "</table>\n",
       "</div>"
      ],
      "text/plain": [
       "  metal        10        15        20\n",
       "0    Ni  0.564452  0.579183  0.571463\n",
       "1    Zn  0.472592  0.493705  0.468608\n",
       "2    Pb  0.505537  0.496047  0.498275\n",
       "3    Xi  0.440451  0.436480  0.435518\n",
       "4    Al  0.504240  0.519603  0.506465\n",
       "5    Cu  0.502134  0.547481  0.536395"
      ]
     },
     "execution_count": 20,
     "metadata": {},
     "output_type": "execute_result"
    }
   ],
   "source": [
    "different_metal_certain_factor_analysis(['Ni', 'Zn', 'Pb', 'Xi', 'Al', 'Cu'], short_term_combine_result_rolling_one_half,'freq_win')"
   ]
  },
  {
   "cell_type": "code",
   "execution_count": 21,
   "metadata": {},
   "outputs": [
    {
     "name": "stdout",
     "output_type": "stream",
     "text": [
      "freq_win is 10, accuracy is 0.4583925160405544\n",
      "freq_win is 15, accuracy is 0.4821763602251407\n",
      "freq_win is 20, accuracy is 0.5059312582378587\n"
     ]
    },
    {
     "data": {
      "text/html": [
       "<div>\n",
       "<style scoped>\n",
       "    .dataframe tbody tr th:only-of-type {\n",
       "        vertical-align: middle;\n",
       "    }\n",
       "\n",
       "    .dataframe tbody tr th {\n",
       "        vertical-align: top;\n",
       "    }\n",
       "\n",
       "    .dataframe thead th {\n",
       "        text-align: right;\n",
       "    }\n",
       "</style>\n",
       "<table border=\"1\" class=\"dataframe\">\n",
       "  <thead>\n",
       "    <tr style=\"text-align: right;\">\n",
       "      <th></th>\n",
       "      <th>metal</th>\n",
       "      <th>10</th>\n",
       "      <th>15</th>\n",
       "      <th>20</th>\n",
       "    </tr>\n",
       "  </thead>\n",
       "  <tbody>\n",
       "    <tr>\n",
       "      <th>0</th>\n",
       "      <td>Ni</td>\n",
       "      <td>0.491124</td>\n",
       "      <td>0.495228</td>\n",
       "      <td>0.516839</td>\n",
       "    </tr>\n",
       "    <tr>\n",
       "      <th>1</th>\n",
       "      <td>Zn</td>\n",
       "      <td>0.528936</td>\n",
       "      <td>0.548793</td>\n",
       "      <td>0.561386</td>\n",
       "    </tr>\n",
       "    <tr>\n",
       "      <th>2</th>\n",
       "      <td>Pb</td>\n",
       "      <td>0.336716</td>\n",
       "      <td>0.360239</td>\n",
       "      <td>0.453952</td>\n",
       "    </tr>\n",
       "    <tr>\n",
       "      <th>3</th>\n",
       "      <td>Xi</td>\n",
       "      <td>0.540318</td>\n",
       "      <td>0.522188</td>\n",
       "      <td>0.550332</td>\n",
       "    </tr>\n",
       "    <tr>\n",
       "      <th>4</th>\n",
       "      <td>Al</td>\n",
       "      <td>0.386188</td>\n",
       "      <td>0.497162</td>\n",
       "      <td>0.524722</td>\n",
       "    </tr>\n",
       "    <tr>\n",
       "      <th>5</th>\n",
       "      <td>Cu</td>\n",
       "      <td>0.473841</td>\n",
       "      <td>0.453438</td>\n",
       "      <td>0.429003</td>\n",
       "    </tr>\n",
       "  </tbody>\n",
       "</table>\n",
       "</div>"
      ],
      "text/plain": [
       "  metal        10        15        20\n",
       "0    Ni  0.491124  0.495228  0.516839\n",
       "1    Zn  0.528936  0.548793  0.561386\n",
       "2    Pb  0.336716  0.360239  0.453952\n",
       "3    Xi  0.540318  0.522188  0.550332\n",
       "4    Al  0.386188  0.497162  0.524722\n",
       "5    Cu  0.473841  0.453438  0.429003"
      ]
     },
     "execution_count": 21,
     "metadata": {},
     "output_type": "execute_result"
    }
   ],
   "source": [
    "different_metal_certain_factor_analysis(['Ni', 'Zn', 'Pb', 'Xi', 'Al', 'Cu'], long_term_combine_result_rolling_four_half,'freq_win')"
   ]
  },
  {
   "cell_type": "markdown",
   "metadata": {},
   "source": [
    "# Analyse use_report_day"
   ]
  },
  {
   "cell_type": "code",
   "execution_count": 22,
   "metadata": {
    "scrolled": true
   },
   "outputs": [
    {
     "name": "stdout",
     "output_type": "stream",
     "text": [
      "use_report_day is 1, accuracy is 0.5213157213157213\n",
      "use_report_day is 3, accuracy is 0.507289468636102\n",
      "use_report_day is 5, accuracy is 0.5072561745087435\n"
     ]
    },
    {
     "data": {
      "text/html": [
       "<div>\n",
       "<style scoped>\n",
       "    .dataframe tbody tr th:only-of-type {\n",
       "        vertical-align: middle;\n",
       "    }\n",
       "\n",
       "    .dataframe tbody tr th {\n",
       "        vertical-align: top;\n",
       "    }\n",
       "\n",
       "    .dataframe thead th {\n",
       "        text-align: right;\n",
       "    }\n",
       "</style>\n",
       "<table border=\"1\" class=\"dataframe\">\n",
       "  <thead>\n",
       "    <tr style=\"text-align: right;\">\n",
       "      <th></th>\n",
       "      <th>metal</th>\n",
       "      <th>1</th>\n",
       "      <th>3</th>\n",
       "      <th>5</th>\n",
       "    </tr>\n",
       "  </thead>\n",
       "  <tbody>\n",
       "    <tr>\n",
       "      <th>0</th>\n",
       "      <td>Ni</td>\n",
       "      <td>0.571388</td>\n",
       "      <td>0.576068</td>\n",
       "      <td>0.567555</td>\n",
       "    </tr>\n",
       "    <tr>\n",
       "      <th>1</th>\n",
       "      <td>Zn</td>\n",
       "      <td>0.485221</td>\n",
       "      <td>0.472081</td>\n",
       "      <td>0.476797</td>\n",
       "    </tr>\n",
       "    <tr>\n",
       "      <th>2</th>\n",
       "      <td>Pb</td>\n",
       "      <td>0.499648</td>\n",
       "      <td>0.496874</td>\n",
       "      <td>0.503042</td>\n",
       "    </tr>\n",
       "    <tr>\n",
       "      <th>3</th>\n",
       "      <td>Xi</td>\n",
       "      <td>0.471495</td>\n",
       "      <td>0.418919</td>\n",
       "      <td>0.425794</td>\n",
       "    </tr>\n",
       "    <tr>\n",
       "      <th>4</th>\n",
       "      <td>Al</td>\n",
       "      <td>0.530478</td>\n",
       "      <td>0.496515</td>\n",
       "      <td>0.502785</td>\n",
       "    </tr>\n",
       "    <tr>\n",
       "      <th>5</th>\n",
       "      <td>Cu</td>\n",
       "      <td>0.539838</td>\n",
       "      <td>0.528919</td>\n",
       "      <td>0.515128</td>\n",
       "    </tr>\n",
       "  </tbody>\n",
       "</table>\n",
       "</div>"
      ],
      "text/plain": [
       "  metal         1         3         5\n",
       "0    Ni  0.571388  0.576068  0.567555\n",
       "1    Zn  0.485221  0.472081  0.476797\n",
       "2    Pb  0.499648  0.496874  0.503042\n",
       "3    Xi  0.471495  0.418919  0.425794\n",
       "4    Al  0.530478  0.496515  0.502785\n",
       "5    Cu  0.539838  0.528919  0.515128"
      ]
     },
     "execution_count": 22,
     "metadata": {},
     "output_type": "execute_result"
    }
   ],
   "source": [
    "different_metal_certain_factor_analysis(['Ni', 'Zn', 'Pb', 'Xi', 'Al', 'Cu'], short_term_combine_result_rolling_one_half,'use_report_day')"
   ]
  },
  {
   "cell_type": "code",
   "execution_count": 23,
   "metadata": {},
   "outputs": [
    {
     "name": "stdout",
     "output_type": "stream",
     "text": [
      "use_report_day is 1, accuracy is 0.48205071906905256\n",
      "use_report_day is 3, accuracy is 0.48053995467533744\n",
      "use_report_day is 5, accuracy is 0.4830429080007495\n"
     ]
    },
    {
     "data": {
      "text/html": [
       "<div>\n",
       "<style scoped>\n",
       "    .dataframe tbody tr th:only-of-type {\n",
       "        vertical-align: middle;\n",
       "    }\n",
       "\n",
       "    .dataframe tbody tr th {\n",
       "        vertical-align: top;\n",
       "    }\n",
       "\n",
       "    .dataframe thead th {\n",
       "        text-align: right;\n",
       "    }\n",
       "</style>\n",
       "<table border=\"1\" class=\"dataframe\">\n",
       "  <thead>\n",
       "    <tr style=\"text-align: right;\">\n",
       "      <th></th>\n",
       "      <th>metal</th>\n",
       "      <th>1</th>\n",
       "      <th>3</th>\n",
       "      <th>5</th>\n",
       "    </tr>\n",
       "  </thead>\n",
       "  <tbody>\n",
       "    <tr>\n",
       "      <th>0</th>\n",
       "      <td>Ni</td>\n",
       "      <td>0.501912</td>\n",
       "      <td>0.502884</td>\n",
       "      <td>0.498069</td>\n",
       "    </tr>\n",
       "    <tr>\n",
       "      <th>1</th>\n",
       "      <td>Zn</td>\n",
       "      <td>0.542602</td>\n",
       "      <td>0.544188</td>\n",
       "      <td>0.552341</td>\n",
       "    </tr>\n",
       "    <tr>\n",
       "      <th>2</th>\n",
       "      <td>Pb</td>\n",
       "      <td>0.394483</td>\n",
       "      <td>0.371913</td>\n",
       "      <td>0.384943</td>\n",
       "    </tr>\n",
       "    <tr>\n",
       "      <th>3</th>\n",
       "      <td>Xi</td>\n",
       "      <td>0.561493</td>\n",
       "      <td>0.525565</td>\n",
       "      <td>0.531458</td>\n",
       "    </tr>\n",
       "    <tr>\n",
       "      <th>4</th>\n",
       "      <td>Al</td>\n",
       "      <td>0.455457</td>\n",
       "      <td>0.472193</td>\n",
       "      <td>0.473724</td>\n",
       "    </tr>\n",
       "    <tr>\n",
       "      <th>5</th>\n",
       "      <td>Cu</td>\n",
       "      <td>0.450081</td>\n",
       "      <td>0.454150</td>\n",
       "      <td>0.454203</td>\n",
       "    </tr>\n",
       "  </tbody>\n",
       "</table>\n",
       "</div>"
      ],
      "text/plain": [
       "  metal         1         3         5\n",
       "0    Ni  0.501912  0.502884  0.498069\n",
       "1    Zn  0.542602  0.544188  0.552341\n",
       "2    Pb  0.394483  0.371913  0.384943\n",
       "3    Xi  0.561493  0.525565  0.531458\n",
       "4    Al  0.455457  0.472193  0.473724\n",
       "5    Cu  0.450081  0.454150  0.454203"
      ]
     },
     "execution_count": 23,
     "metadata": {},
     "output_type": "execute_result"
    }
   ],
   "source": [
    "different_metal_certain_factor_analysis(['Ni', 'Zn', 'Pb', 'Xi', 'Al', 'Cu'], long_term_combine_result_rolling_four_half,'use_report_day')"
   ]
  },
  {
   "cell_type": "markdown",
   "metadata": {},
   "source": [
    "# Analyse version"
   ]
  },
  {
   "cell_type": "code",
   "execution_count": 24,
   "metadata": {},
   "outputs": [
    {
     "name": "stdout",
     "output_type": "stream",
     "text": [
      "version is v2, accuracy is 0.5120765270450646\n",
      "version is v3, accuracy is 0.5111564493668836\n"
     ]
    },
    {
     "data": {
      "text/html": [
       "<div>\n",
       "<style scoped>\n",
       "    .dataframe tbody tr th:only-of-type {\n",
       "        vertical-align: middle;\n",
       "    }\n",
       "\n",
       "    .dataframe tbody tr th {\n",
       "        vertical-align: top;\n",
       "    }\n",
       "\n",
       "    .dataframe thead th {\n",
       "        text-align: right;\n",
       "    }\n",
       "</style>\n",
       "<table border=\"1\" class=\"dataframe\">\n",
       "  <thead>\n",
       "    <tr style=\"text-align: right;\">\n",
       "      <th></th>\n",
       "      <th>metal</th>\n",
       "      <th>v2</th>\n",
       "      <th>v3</th>\n",
       "    </tr>\n",
       "  </thead>\n",
       "  <tbody>\n",
       "    <tr>\n",
       "      <th>0</th>\n",
       "      <td>Ni</td>\n",
       "      <td>0.569885</td>\n",
       "      <td>0.573237</td>\n",
       "    </tr>\n",
       "    <tr>\n",
       "      <th>1</th>\n",
       "      <td>Zn</td>\n",
       "      <td>0.478381</td>\n",
       "      <td>0.477554</td>\n",
       "    </tr>\n",
       "    <tr>\n",
       "      <th>2</th>\n",
       "      <td>Pb</td>\n",
       "      <td>0.500091</td>\n",
       "      <td>0.499903</td>\n",
       "    </tr>\n",
       "    <tr>\n",
       "      <th>3</th>\n",
       "      <td>Xi</td>\n",
       "      <td>0.438737</td>\n",
       "      <td>0.436235</td>\n",
       "    </tr>\n",
       "    <tr>\n",
       "      <th>4</th>\n",
       "      <td>Al</td>\n",
       "      <td>0.513090</td>\n",
       "      <td>0.506690</td>\n",
       "    </tr>\n",
       "    <tr>\n",
       "      <th>5</th>\n",
       "      <td>Cu</td>\n",
       "      <td>0.527683</td>\n",
       "      <td>0.527743</td>\n",
       "    </tr>\n",
       "  </tbody>\n",
       "</table>\n",
       "</div>"
      ],
      "text/plain": [
       "  metal        v2        v3\n",
       "0    Ni  0.569885  0.573237\n",
       "1    Zn  0.478381  0.477554\n",
       "2    Pb  0.500091  0.499903\n",
       "3    Xi  0.438737  0.436235\n",
       "4    Al  0.513090  0.506690\n",
       "5    Cu  0.527683  0.527743"
      ]
     },
     "execution_count": 24,
     "metadata": {},
     "output_type": "execute_result"
    }
   ],
   "source": [
    "different_metal_certain_factor_analysis(['Ni', 'Zn', 'Pb', 'Xi', 'Al', 'Cu'], short_term_combine_result_rolling_one_half,'version')"
   ]
  },
  {
   "cell_type": "code",
   "execution_count": 25,
   "metadata": {},
   "outputs": [
    {
     "name": "stdout",
     "output_type": "stream",
     "text": [
      "version is v2, accuracy is 0.48167274200081006\n",
      "version is v3, accuracy is 0.48210742161661596\n"
     ]
    },
    {
     "data": {
      "text/html": [
       "<div>\n",
       "<style scoped>\n",
       "    .dataframe tbody tr th:only-of-type {\n",
       "        vertical-align: middle;\n",
       "    }\n",
       "\n",
       "    .dataframe tbody tr th {\n",
       "        vertical-align: top;\n",
       "    }\n",
       "\n",
       "    .dataframe thead th {\n",
       "        text-align: right;\n",
       "    }\n",
       "</style>\n",
       "<table border=\"1\" class=\"dataframe\">\n",
       "  <thead>\n",
       "    <tr style=\"text-align: right;\">\n",
       "      <th></th>\n",
       "      <th>metal</th>\n",
       "      <th>v2</th>\n",
       "      <th>v3</th>\n",
       "    </tr>\n",
       "  </thead>\n",
       "  <tbody>\n",
       "    <tr>\n",
       "      <th>0</th>\n",
       "      <td>Ni</td>\n",
       "      <td>0.502447</td>\n",
       "      <td>0.499318</td>\n",
       "    </tr>\n",
       "    <tr>\n",
       "      <th>1</th>\n",
       "      <td>Zn</td>\n",
       "      <td>0.548227</td>\n",
       "      <td>0.544916</td>\n",
       "    </tr>\n",
       "    <tr>\n",
       "      <th>2</th>\n",
       "      <td>Pb</td>\n",
       "      <td>0.384035</td>\n",
       "      <td>0.382231</td>\n",
       "    </tr>\n",
       "    <tr>\n",
       "      <th>3</th>\n",
       "      <td>Xi</td>\n",
       "      <td>0.529213</td>\n",
       "      <td>0.545248</td>\n",
       "    </tr>\n",
       "    <tr>\n",
       "      <th>4</th>\n",
       "      <td>Al</td>\n",
       "      <td>0.465508</td>\n",
       "      <td>0.469352</td>\n",
       "    </tr>\n",
       "    <tr>\n",
       "      <th>5</th>\n",
       "      <td>Cu</td>\n",
       "      <td>0.452422</td>\n",
       "      <td>0.453306</td>\n",
       "    </tr>\n",
       "  </tbody>\n",
       "</table>\n",
       "</div>"
      ],
      "text/plain": [
       "  metal        v2        v3\n",
       "0    Ni  0.502447  0.499318\n",
       "1    Zn  0.548227  0.544916\n",
       "2    Pb  0.384035  0.382231\n",
       "3    Xi  0.529213  0.545248\n",
       "4    Al  0.465508  0.469352\n",
       "5    Cu  0.452422  0.453306"
      ]
     },
     "execution_count": 25,
     "metadata": {},
     "output_type": "execute_result"
    }
   ],
   "source": [
    "different_metal_certain_factor_analysis(['Ni', 'Zn', 'Pb', 'Xi', 'Al', 'Cu'], long_term_combine_result_rolling_four_half,'version')"
   ]
  },
  {
   "cell_type": "markdown",
   "metadata": {},
   "source": [
    "# We fisrt fix the rolling half for long term and short term, fix the freq_win for long term and short term"
   ]
  },
  {
   "cell_type": "code",
   "execution_count": 26,
   "metadata": {},
   "outputs": [],
   "source": [
    "short_term_one_half_freq_15 = short_term_combine_result_rolling_one_half[short_term_combine_result_rolling_one_half['freq_win']==15]\n",
    "long_term_one_half_freq_20 = long_term_combine_result_rolling_four_half[long_term_combine_result_rolling_four_half['freq_win']==20]"
   ]
  },
  {
   "cell_type": "markdown",
   "metadata": {},
   "source": [
    "# Analyse use_report_day"
   ]
  },
  {
   "cell_type": "code",
   "execution_count": 27,
   "metadata": {},
   "outputs": [
    {
     "name": "stdout",
     "output_type": "stream",
     "text": [
      "use_report_day is 1, accuracy is 0.5307545973367153\n",
      "use_report_day is 3, accuracy is 0.5166194663884335\n",
      "use_report_day is 5, accuracy is 0.5153824833702882\n"
     ]
    },
    {
     "data": {
      "text/html": [
       "<div>\n",
       "<style scoped>\n",
       "    .dataframe tbody tr th:only-of-type {\n",
       "        vertical-align: middle;\n",
       "    }\n",
       "\n",
       "    .dataframe tbody tr th {\n",
       "        vertical-align: top;\n",
       "    }\n",
       "\n",
       "    .dataframe thead th {\n",
       "        text-align: right;\n",
       "    }\n",
       "</style>\n",
       "<table border=\"1\" class=\"dataframe\">\n",
       "  <thead>\n",
       "    <tr style=\"text-align: right;\">\n",
       "      <th></th>\n",
       "      <th>metal</th>\n",
       "      <th>1</th>\n",
       "      <th>3</th>\n",
       "      <th>5</th>\n",
       "    </tr>\n",
       "  </thead>\n",
       "  <tbody>\n",
       "    <tr>\n",
       "      <th>0</th>\n",
       "      <td>Ni</td>\n",
       "      <td>0.579736</td>\n",
       "      <td>0.581616</td>\n",
       "      <td>0.576538</td>\n",
       "    </tr>\n",
       "    <tr>\n",
       "      <th>1</th>\n",
       "      <td>Zn</td>\n",
       "      <td>0.496644</td>\n",
       "      <td>0.491215</td>\n",
       "      <td>0.493324</td>\n",
       "    </tr>\n",
       "    <tr>\n",
       "      <th>2</th>\n",
       "      <td>Pb</td>\n",
       "      <td>0.495238</td>\n",
       "      <td>0.492623</td>\n",
       "      <td>0.499637</td>\n",
       "    </tr>\n",
       "    <tr>\n",
       "      <th>3</th>\n",
       "      <td>Xi</td>\n",
       "      <td>0.468677</td>\n",
       "      <td>0.420259</td>\n",
       "      <td>0.424125</td>\n",
       "    </tr>\n",
       "    <tr>\n",
       "      <th>4</th>\n",
       "      <td>Al</td>\n",
       "      <td>0.544094</td>\n",
       "      <td>0.507976</td>\n",
       "      <td>0.505938</td>\n",
       "    </tr>\n",
       "    <tr>\n",
       "      <th>5</th>\n",
       "      <td>Cu</td>\n",
       "      <td>0.559022</td>\n",
       "      <td>0.547264</td>\n",
       "      <td>0.536664</td>\n",
       "    </tr>\n",
       "  </tbody>\n",
       "</table>\n",
       "</div>"
      ],
      "text/plain": [
       "  metal         1         3         5\n",
       "0    Ni  0.579736  0.581616  0.576538\n",
       "1    Zn  0.496644  0.491215  0.493324\n",
       "2    Pb  0.495238  0.492623  0.499637\n",
       "3    Xi  0.468677  0.420259  0.424125\n",
       "4    Al  0.544094  0.507976  0.505938\n",
       "5    Cu  0.559022  0.547264  0.536664"
      ]
     },
     "execution_count": 27,
     "metadata": {},
     "output_type": "execute_result"
    }
   ],
   "source": [
    "different_metal_certain_factor_analysis(['Ni', 'Zn', 'Pb', 'Xi', 'Al', 'Cu'], short_term_one_half_freq_15,'use_report_day')"
   ]
  },
  {
   "cell_type": "code",
   "execution_count": 28,
   "metadata": {},
   "outputs": [
    {
     "name": "stdout",
     "output_type": "stream",
     "text": [
      "use_report_day is 1, accuracy is 0.508595041322314\n",
      "use_report_day is 3, accuracy is 0.5038099506947558\n",
      "use_report_day is 5, accuracy is 0.5056565945868537\n"
     ]
    },
    {
     "data": {
      "text/html": [
       "<div>\n",
       "<style scoped>\n",
       "    .dataframe tbody tr th:only-of-type {\n",
       "        vertical-align: middle;\n",
       "    }\n",
       "\n",
       "    .dataframe tbody tr th {\n",
       "        vertical-align: top;\n",
       "    }\n",
       "\n",
       "    .dataframe thead th {\n",
       "        text-align: right;\n",
       "    }\n",
       "</style>\n",
       "<table border=\"1\" class=\"dataframe\">\n",
       "  <thead>\n",
       "    <tr style=\"text-align: right;\">\n",
       "      <th></th>\n",
       "      <th>metal</th>\n",
       "      <th>1</th>\n",
       "      <th>3</th>\n",
       "      <th>5</th>\n",
       "    </tr>\n",
       "  </thead>\n",
       "  <tbody>\n",
       "    <tr>\n",
       "      <th>0</th>\n",
       "      <td>Ni</td>\n",
       "      <td>0.517962</td>\n",
       "      <td>0.519908</td>\n",
       "      <td>0.512896</td>\n",
       "    </tr>\n",
       "    <tr>\n",
       "      <th>1</th>\n",
       "      <td>Zn</td>\n",
       "      <td>0.559174</td>\n",
       "      <td>0.558616</td>\n",
       "      <td>0.566104</td>\n",
       "    </tr>\n",
       "    <tr>\n",
       "      <th>2</th>\n",
       "      <td>Pb</td>\n",
       "      <td>0.471956</td>\n",
       "      <td>0.449438</td>\n",
       "      <td>0.444670</td>\n",
       "    </tr>\n",
       "    <tr>\n",
       "      <th>3</th>\n",
       "      <td>Xi</td>\n",
       "      <td>0.565789</td>\n",
       "      <td>0.535135</td>\n",
       "      <td>0.552469</td>\n",
       "    </tr>\n",
       "    <tr>\n",
       "      <th>4</th>\n",
       "      <td>Al</td>\n",
       "      <td>0.520661</td>\n",
       "      <td>0.522308</td>\n",
       "      <td>0.530673</td>\n",
       "    </tr>\n",
       "    <tr>\n",
       "      <th>5</th>\n",
       "      <td>Cu</td>\n",
       "      <td>0.434419</td>\n",
       "      <td>0.429038</td>\n",
       "      <td>0.423645</td>\n",
       "    </tr>\n",
       "  </tbody>\n",
       "</table>\n",
       "</div>"
      ],
      "text/plain": [
       "  metal         1         3         5\n",
       "0    Ni  0.517962  0.519908  0.512896\n",
       "1    Zn  0.559174  0.558616  0.566104\n",
       "2    Pb  0.471956  0.449438  0.444670\n",
       "3    Xi  0.565789  0.535135  0.552469\n",
       "4    Al  0.520661  0.522308  0.530673\n",
       "5    Cu  0.434419  0.429038  0.423645"
      ]
     },
     "execution_count": 28,
     "metadata": {},
     "output_type": "execute_result"
    }
   ],
   "source": [
    "different_metal_certain_factor_analysis(['Ni', 'Zn', 'Pb', 'Xi', 'Al', 'Cu'], long_term_one_half_freq_20,'use_report_day')"
   ]
  },
  {
   "cell_type": "markdown",
   "metadata": {},
   "source": [
    "# Analyse version"
   ]
  },
  {
   "cell_type": "code",
   "execution_count": 29,
   "metadata": {},
   "outputs": [
    {
     "name": "stdout",
     "output_type": "stream",
     "text": [
      "version is v2, accuracy is 0.5211433046202036\n",
      "version is v3, accuracy is 0.5200159728461615\n"
     ]
    },
    {
     "data": {
      "text/html": [
       "<div>\n",
       "<style scoped>\n",
       "    .dataframe tbody tr th:only-of-type {\n",
       "        vertical-align: middle;\n",
       "    }\n",
       "\n",
       "    .dataframe tbody tr th {\n",
       "        vertical-align: top;\n",
       "    }\n",
       "\n",
       "    .dataframe thead th {\n",
       "        text-align: right;\n",
       "    }\n",
       "</style>\n",
       "<table border=\"1\" class=\"dataframe\">\n",
       "  <thead>\n",
       "    <tr style=\"text-align: right;\">\n",
       "      <th></th>\n",
       "      <th>metal</th>\n",
       "      <th>v2</th>\n",
       "      <th>v3</th>\n",
       "    </tr>\n",
       "  </thead>\n",
       "  <tbody>\n",
       "    <tr>\n",
       "      <th>0</th>\n",
       "      <td>Ni</td>\n",
       "      <td>0.576138</td>\n",
       "      <td>0.582272</td>\n",
       "    </tr>\n",
       "    <tr>\n",
       "      <th>1</th>\n",
       "      <td>Zn</td>\n",
       "      <td>0.494447</td>\n",
       "      <td>0.492958</td>\n",
       "    </tr>\n",
       "    <tr>\n",
       "      <th>2</th>\n",
       "      <td>Pb</td>\n",
       "      <td>0.496986</td>\n",
       "      <td>0.495050</td>\n",
       "    </tr>\n",
       "    <tr>\n",
       "      <th>3</th>\n",
       "      <td>Xi</td>\n",
       "      <td>0.439093</td>\n",
       "      <td>0.433855</td>\n",
       "    </tr>\n",
       "    <tr>\n",
       "      <th>4</th>\n",
       "      <td>Al</td>\n",
       "      <td>0.523607</td>\n",
       "      <td>0.515498</td>\n",
       "    </tr>\n",
       "    <tr>\n",
       "      <th>5</th>\n",
       "      <td>Cu</td>\n",
       "      <td>0.547305</td>\n",
       "      <td>0.547658</td>\n",
       "    </tr>\n",
       "  </tbody>\n",
       "</table>\n",
       "</div>"
      ],
      "text/plain": [
       "  metal        v2        v3\n",
       "0    Ni  0.576138  0.582272\n",
       "1    Zn  0.494447  0.492958\n",
       "2    Pb  0.496986  0.495050\n",
       "3    Xi  0.439093  0.433855\n",
       "4    Al  0.523607  0.515498\n",
       "5    Cu  0.547305  0.547658"
      ]
     },
     "execution_count": 29,
     "metadata": {},
     "output_type": "execute_result"
    }
   ],
   "source": [
    "different_metal_certain_factor_analysis(['Ni', 'Zn', 'Pb', 'Xi', 'Al', 'Cu'], short_term_one_half_freq_15,'version')"
   ]
  },
  {
   "cell_type": "code",
   "execution_count": 30,
   "metadata": {},
   "outputs": [
    {
     "name": "stdout",
     "output_type": "stream",
     "text": [
      "version is v2, accuracy is 0.5051324163416137\n",
      "version is v3, accuracy is 0.5067107371794872\n"
     ]
    },
    {
     "data": {
      "text/html": [
       "<div>\n",
       "<style scoped>\n",
       "    .dataframe tbody tr th:only-of-type {\n",
       "        vertical-align: middle;\n",
       "    }\n",
       "\n",
       "    .dataframe tbody tr th {\n",
       "        vertical-align: top;\n",
       "    }\n",
       "\n",
       "    .dataframe thead th {\n",
       "        text-align: right;\n",
       "    }\n",
       "</style>\n",
       "<table border=\"1\" class=\"dataframe\">\n",
       "  <thead>\n",
       "    <tr style=\"text-align: right;\">\n",
       "      <th></th>\n",
       "      <th>metal</th>\n",
       "      <th>v2</th>\n",
       "      <th>v3</th>\n",
       "    </tr>\n",
       "  </thead>\n",
       "  <tbody>\n",
       "    <tr>\n",
       "      <th>0</th>\n",
       "      <td>Ni</td>\n",
       "      <td>0.517526</td>\n",
       "      <td>0.516146</td>\n",
       "    </tr>\n",
       "    <tr>\n",
       "      <th>1</th>\n",
       "      <td>Zn</td>\n",
       "      <td>0.562959</td>\n",
       "      <td>0.559825</td>\n",
       "    </tr>\n",
       "    <tr>\n",
       "      <th>2</th>\n",
       "      <td>Pb</td>\n",
       "      <td>0.452665</td>\n",
       "      <td>0.455152</td>\n",
       "    </tr>\n",
       "    <tr>\n",
       "      <th>3</th>\n",
       "      <td>Xi</td>\n",
       "      <td>0.542784</td>\n",
       "      <td>0.557078</td>\n",
       "    </tr>\n",
       "    <tr>\n",
       "      <th>4</th>\n",
       "      <td>Al</td>\n",
       "      <td>0.522703</td>\n",
       "      <td>0.526663</td>\n",
       "    </tr>\n",
       "    <tr>\n",
       "      <th>5</th>\n",
       "      <td>Cu</td>\n",
       "      <td>0.429119</td>\n",
       "      <td>0.428886</td>\n",
       "    </tr>\n",
       "  </tbody>\n",
       "</table>\n",
       "</div>"
      ],
      "text/plain": [
       "  metal        v2        v3\n",
       "0    Ni  0.517526  0.516146\n",
       "1    Zn  0.562959  0.559825\n",
       "2    Pb  0.452665  0.455152\n",
       "3    Xi  0.542784  0.557078\n",
       "4    Al  0.522703  0.526663\n",
       "5    Cu  0.429119  0.428886"
      ]
     },
     "execution_count": 30,
     "metadata": {},
     "output_type": "execute_result"
    }
   ],
   "source": [
    "different_metal_certain_factor_analysis(['Ni', 'Zn', 'Pb', 'Xi', 'Al', 'Cu'], long_term_one_half_freq_20,'version')"
   ]
  },
  {
   "cell_type": "markdown",
   "metadata": {},
   "source": [
    "# We fisrt fix the rolling half for long term and short term, fix the freq_win for long term and short term, fix the use_report_day for long term and short term"
   ]
  },
  {
   "cell_type": "code",
   "execution_count": 31,
   "metadata": {},
   "outputs": [],
   "source": [
    "short_term_one_half_freq_15_repo_1 = short_term_one_half_freq_15[short_term_one_half_freq_15['use_report_day']==1]\n",
    "long_term_one_half_freq_20_repo_1 = long_term_one_half_freq_20[long_term_one_half_freq_20['use_report_day']==1]"
   ]
  },
  {
   "cell_type": "code",
   "execution_count": 32,
   "metadata": {},
   "outputs": [
    {
     "name": "stdout",
     "output_type": "stream",
     "text": [
      "version is v2, accuracy is 0.5314837905236908\n",
      "version is v3, accuracy is 0.53\n"
     ]
    },
    {
     "data": {
      "text/html": [
       "<div>\n",
       "<style scoped>\n",
       "    .dataframe tbody tr th:only-of-type {\n",
       "        vertical-align: middle;\n",
       "    }\n",
       "\n",
       "    .dataframe tbody tr th {\n",
       "        vertical-align: top;\n",
       "    }\n",
       "\n",
       "    .dataframe thead th {\n",
       "        text-align: right;\n",
       "    }\n",
       "</style>\n",
       "<table border=\"1\" class=\"dataframe\">\n",
       "  <thead>\n",
       "    <tr style=\"text-align: right;\">\n",
       "      <th></th>\n",
       "      <th>metal</th>\n",
       "      <th>v2</th>\n",
       "      <th>v3</th>\n",
       "    </tr>\n",
       "  </thead>\n",
       "  <tbody>\n",
       "    <tr>\n",
       "      <th>0</th>\n",
       "      <td>Ni</td>\n",
       "      <td>0.573913</td>\n",
       "      <td>0.585714</td>\n",
       "    </tr>\n",
       "    <tr>\n",
       "      <th>1</th>\n",
       "      <td>Zn</td>\n",
       "      <td>0.498516</td>\n",
       "      <td>0.494753</td>\n",
       "    </tr>\n",
       "    <tr>\n",
       "      <th>2</th>\n",
       "      <td>Pb</td>\n",
       "      <td>0.494949</td>\n",
       "      <td>0.495556</td>\n",
       "    </tr>\n",
       "    <tr>\n",
       "      <th>3</th>\n",
       "      <td>Xi</td>\n",
       "      <td>0.472222</td>\n",
       "      <td>0.465116</td>\n",
       "    </tr>\n",
       "    <tr>\n",
       "      <th>4</th>\n",
       "      <td>Al</td>\n",
       "      <td>0.549770</td>\n",
       "      <td>0.538088</td>\n",
       "    </tr>\n",
       "    <tr>\n",
       "      <th>5</th>\n",
       "      <td>Cu</td>\n",
       "      <td>0.559664</td>\n",
       "      <td>0.558376</td>\n",
       "    </tr>\n",
       "  </tbody>\n",
       "</table>\n",
       "</div>"
      ],
      "text/plain": [
       "  metal        v2        v3\n",
       "0    Ni  0.573913  0.585714\n",
       "1    Zn  0.498516  0.494753\n",
       "2    Pb  0.494949  0.495556\n",
       "3    Xi  0.472222  0.465116\n",
       "4    Al  0.549770  0.538088\n",
       "5    Cu  0.559664  0.558376"
      ]
     },
     "execution_count": 32,
     "metadata": {},
     "output_type": "execute_result"
    }
   ],
   "source": [
    "different_metal_certain_factor_analysis(['Ni', 'Zn', 'Pb', 'Xi', 'Al', 'Cu'], short_term_one_half_freq_15_repo_1,'version')"
   ]
  },
  {
   "cell_type": "code",
   "execution_count": 33,
   "metadata": {},
   "outputs": [
    {
     "name": "stdout",
     "output_type": "stream",
     "text": [
      "version is v2, accuracy is 0.5084745762711864\n",
      "version is v3, accuracy is 0.5087096774193548\n"
     ]
    },
    {
     "data": {
      "text/html": [
       "<div>\n",
       "<style scoped>\n",
       "    .dataframe tbody tr th:only-of-type {\n",
       "        vertical-align: middle;\n",
       "    }\n",
       "\n",
       "    .dataframe tbody tr th {\n",
       "        vertical-align: top;\n",
       "    }\n",
       "\n",
       "    .dataframe thead th {\n",
       "        text-align: right;\n",
       "    }\n",
       "</style>\n",
       "<table border=\"1\" class=\"dataframe\">\n",
       "  <thead>\n",
       "    <tr style=\"text-align: right;\">\n",
       "      <th></th>\n",
       "      <th>metal</th>\n",
       "      <th>v2</th>\n",
       "      <th>v3</th>\n",
       "    </tr>\n",
       "  </thead>\n",
       "  <tbody>\n",
       "    <tr>\n",
       "      <th>0</th>\n",
       "      <td>Ni</td>\n",
       "      <td>0.518212</td>\n",
       "      <td>0.517707</td>\n",
       "    </tr>\n",
       "    <tr>\n",
       "      <th>1</th>\n",
       "      <td>Zn</td>\n",
       "      <td>0.562500</td>\n",
       "      <td>0.555906</td>\n",
       "    </tr>\n",
       "    <tr>\n",
       "      <th>2</th>\n",
       "      <td>Pb</td>\n",
       "      <td>0.474474</td>\n",
       "      <td>0.469849</td>\n",
       "    </tr>\n",
       "    <tr>\n",
       "      <th>3</th>\n",
       "      <td>Xi</td>\n",
       "      <td>0.562500</td>\n",
       "      <td>0.568548</td>\n",
       "    </tr>\n",
       "    <tr>\n",
       "      <th>4</th>\n",
       "      <td>Al</td>\n",
       "      <td>0.517301</td>\n",
       "      <td>0.523734</td>\n",
       "    </tr>\n",
       "    <tr>\n",
       "      <th>5</th>\n",
       "      <td>Cu</td>\n",
       "      <td>0.434494</td>\n",
       "      <td>0.434343</td>\n",
       "    </tr>\n",
       "  </tbody>\n",
       "</table>\n",
       "</div>"
      ],
      "text/plain": [
       "  metal        v2        v3\n",
       "0    Ni  0.518212  0.517707\n",
       "1    Zn  0.562500  0.555906\n",
       "2    Pb  0.474474  0.469849\n",
       "3    Xi  0.562500  0.568548\n",
       "4    Al  0.517301  0.523734\n",
       "5    Cu  0.434494  0.434343"
      ]
     },
     "execution_count": 33,
     "metadata": {},
     "output_type": "execute_result"
    }
   ],
   "source": [
    "different_metal_certain_factor_analysis(['Ni', 'Zn', 'Pb', 'Xi', 'Al', 'Cu'], long_term_one_half_freq_20_repo_1,'version')"
   ]
  },
  {
   "cell_type": "markdown",
   "metadata": {},
   "source": [
    "# Here we know we can use the v2 for short term and v3 for the long term"
   ]
  },
  {
   "cell_type": "code",
   "execution_count": 34,
   "metadata": {},
   "outputs": [],
   "source": [
    "short_term_one_half_freq_15_repo_1_v2 = short_term_one_half_freq_15_repo_1[short_term_one_half_freq_15_repo_1['version']=='v2']\n",
    "long_term_one_half_freq_20_repo_1_v3 = long_term_one_half_freq_20_repo_1[long_term_one_half_freq_20_repo_1['version']=='v3']"
   ]
  },
  {
   "cell_type": "code",
   "execution_count": 35,
   "metadata": {},
   "outputs": [
    {
     "name": "stdout",
     "output_type": "stream",
     "text": [
      "0.5314837905236908\n"
     ]
    },
    {
     "data": {
      "text/html": [
       "<div>\n",
       "<style scoped>\n",
       "    .dataframe tbody tr th:only-of-type {\n",
       "        vertical-align: middle;\n",
       "    }\n",
       "\n",
       "    .dataframe tbody tr th {\n",
       "        vertical-align: top;\n",
       "    }\n",
       "\n",
       "    .dataframe thead th {\n",
       "        text-align: right;\n",
       "    }\n",
       "</style>\n",
       "<table border=\"1\" class=\"dataframe\">\n",
       "  <thead>\n",
       "    <tr style=\"text-align: right;\">\n",
       "      <th></th>\n",
       "      <th>metal</th>\n",
       "      <th>acc</th>\n",
       "    </tr>\n",
       "  </thead>\n",
       "  <tbody>\n",
       "    <tr>\n",
       "      <th>0</th>\n",
       "      <td>Ni</td>\n",
       "      <td>0.573913</td>\n",
       "    </tr>\n",
       "    <tr>\n",
       "      <th>1</th>\n",
       "      <td>Zn</td>\n",
       "      <td>0.498516</td>\n",
       "    </tr>\n",
       "    <tr>\n",
       "      <th>2</th>\n",
       "      <td>Pb</td>\n",
       "      <td>0.494949</td>\n",
       "    </tr>\n",
       "    <tr>\n",
       "      <th>3</th>\n",
       "      <td>Xi</td>\n",
       "      <td>0.472222</td>\n",
       "    </tr>\n",
       "    <tr>\n",
       "      <th>4</th>\n",
       "      <td>Al</td>\n",
       "      <td>0.549770</td>\n",
       "    </tr>\n",
       "    <tr>\n",
       "      <th>5</th>\n",
       "      <td>Cu</td>\n",
       "      <td>0.559664</td>\n",
       "    </tr>\n",
       "  </tbody>\n",
       "</table>\n",
       "</div>"
      ],
      "text/plain": [
       "  metal       acc\n",
       "0    Ni  0.573913\n",
       "1    Zn  0.498516\n",
       "2    Pb  0.494949\n",
       "3    Xi  0.472222\n",
       "4    Al  0.549770\n",
       "5    Cu  0.559664"
      ]
     },
     "execution_count": 35,
     "metadata": {},
     "output_type": "execute_result"
    }
   ],
   "source": [
    "choose_metal(['Ni', 'Zn', 'Pb', 'Xi', 'Al', 'Cu'], short_term_one_half_freq_15_repo_1_v2)"
   ]
  },
  {
   "cell_type": "code",
   "execution_count": 36,
   "metadata": {},
   "outputs": [
    {
     "name": "stdout",
     "output_type": "stream",
     "text": [
      "0.5087096774193548\n"
     ]
    },
    {
     "data": {
      "text/html": [
       "<div>\n",
       "<style scoped>\n",
       "    .dataframe tbody tr th:only-of-type {\n",
       "        vertical-align: middle;\n",
       "    }\n",
       "\n",
       "    .dataframe tbody tr th {\n",
       "        vertical-align: top;\n",
       "    }\n",
       "\n",
       "    .dataframe thead th {\n",
       "        text-align: right;\n",
       "    }\n",
       "</style>\n",
       "<table border=\"1\" class=\"dataframe\">\n",
       "  <thead>\n",
       "    <tr style=\"text-align: right;\">\n",
       "      <th></th>\n",
       "      <th>metal</th>\n",
       "      <th>acc</th>\n",
       "    </tr>\n",
       "  </thead>\n",
       "  <tbody>\n",
       "    <tr>\n",
       "      <th>0</th>\n",
       "      <td>Ni</td>\n",
       "      <td>0.517707</td>\n",
       "    </tr>\n",
       "    <tr>\n",
       "      <th>1</th>\n",
       "      <td>Zn</td>\n",
       "      <td>0.555906</td>\n",
       "    </tr>\n",
       "    <tr>\n",
       "      <th>2</th>\n",
       "      <td>Pb</td>\n",
       "      <td>0.469849</td>\n",
       "    </tr>\n",
       "    <tr>\n",
       "      <th>3</th>\n",
       "      <td>Xi</td>\n",
       "      <td>0.568548</td>\n",
       "    </tr>\n",
       "    <tr>\n",
       "      <th>4</th>\n",
       "      <td>Al</td>\n",
       "      <td>0.523734</td>\n",
       "    </tr>\n",
       "    <tr>\n",
       "      <th>5</th>\n",
       "      <td>Cu</td>\n",
       "      <td>0.434343</td>\n",
       "    </tr>\n",
       "  </tbody>\n",
       "</table>\n",
       "</div>"
      ],
      "text/plain": [
       "  metal       acc\n",
       "0    Ni  0.517707\n",
       "1    Zn  0.555906\n",
       "2    Pb  0.469849\n",
       "3    Xi  0.568548\n",
       "4    Al  0.523734\n",
       "5    Cu  0.434343"
      ]
     },
     "execution_count": 36,
     "metadata": {},
     "output_type": "execute_result"
    }
   ],
   "source": [
    "choose_metal(['Ni', 'Zn', 'Pb', 'Xi', 'Al', 'Cu'], long_term_one_half_freq_20_repo_1_v3)"
   ]
  },
  {
   "cell_type": "code",
   "execution_count": null,
   "metadata": {},
   "outputs": [],
   "source": []
  }
 ],
 "metadata": {
  "kernelspec": {
   "display_name": "Python 3",
   "language": "python",
   "name": "python3"
  },
  "language_info": {
   "codemirror_mode": {
    "name": "ipython",
    "version": 3
   },
   "file_extension": ".py",
   "mimetype": "text/x-python",
   "name": "python",
   "nbconvert_exporter": "python",
   "pygments_lexer": "ipython3",
   "version": "3.7.4"
  }
 },
 "nbformat": 4,
 "nbformat_minor": 2
}
